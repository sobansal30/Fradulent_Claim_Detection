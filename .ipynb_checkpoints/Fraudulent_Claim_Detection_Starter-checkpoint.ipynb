{
 "cells": [
  {
   "cell_type": "markdown",
   "metadata": {
    "id": "uJ6cv25EDPWV"
   },
   "source": [
    "## **Fraudulent Claim Detection**"
   ]
  },
  {
   "cell_type": "markdown",
   "metadata": {
    "id": "_rLrWLwZDPWW"
   },
   "source": [
    "## Problem Statement\n",
    "Global Insure, a leading insurance company, processes thousands of claims annually. However, a significant percentage of these claims turn out to be fraudulent, resulting in considerable financial losses. The company’s current process for identifying fraudulent claims involves manual inspections, which is time-consuming and inefficient. Fraudulent claims are often detected too late in the process, after the company has already paid out significant amounts. Global Insure wants to improve its fraud detection process using data-driven insights to classify claims as fraudulent or legitimate early in the approval process. This would minimise financial losses and optimise the overall claims handling process.\n",
    "\n",
    "## Business Objective\n",
    "Global Insure wants to build a model to classify insurance claims as either fraudulent or legitimate based on historical claim details and customer profiles. By using features like claim amounts, customer profiles and claim types, the company aims to predict which claims are likely to be fraudulent before they are approved.\n",
    "\n",
    "\n",
    "Based on this assignment, you have to answer the following questions:<br>\n",
    "\n",
    "● How can we analyse historical claim data to detect patterns that indicate fraudulent claims?<br>\n",
    "● Which features are most predictive of fraudulent behaviour?<br>\n",
    "● Can we predict the likelihood of fraud for an incoming claim, based on past data?<br>\n",
    "● What insights can be drawn from the model that can help in improving the fraud detection process?<br>"
   ]
  },
  {
   "cell_type": "markdown",
   "metadata": {
    "id": "dCp1H_XyDPWX"
   },
   "source": [
    "## Assignment Tasks\n",
    "You need to perform the following steps for successfully completing this assignment:\n",
    "1. Data Preparation\n",
    "2. Data Cleaning\n",
    "3. Train Validation Split 70-30\n",
    "4. EDA on Training Data\n",
    "5. EDA on Validation Data (optional)\n",
    "6. Feature Engineering\n",
    "7. Model Building\n",
    "8. Predicting and Model Evaluation"
   ]
  },
  {
   "cell_type": "markdown",
   "metadata": {
    "id": "PPnbScj6sHfw"
   },
   "source": [
    "## Data Dictionary\n",
    "The insurance claims data has 40 Columns and 1000 Rows. Following data dictionary provides the description for each column present in dataset:<br>\n",
    "\n",
    "<table>\n",
    "  <thead>\n",
    "    <tr>\n",
    "      <th>Column Name</th>\n",
    "      <th>Description</th>\n",
    "    </tr>\n",
    "  </thead>\n",
    "  <tbody>\n",
    "    <tr>\n",
    "      <td>months_as_customer</td>\n",
    "      <td>Represents the duration in months that a customer has been associated with the insurance company.</td>\n",
    "    </tr>\n",
    "    <tr>\n",
    "      <td>age</td>\n",
    "      <td>Represents the age of the insured person.</td>\n",
    "    </tr>\n",
    "    <tr>\n",
    "      <td>policy_number</td>\n",
    "      <td>Represents a unique identifier for each insurance policy.</td>\n",
    "    </tr>\n",
    "    <tr>\n",
    "      <td>policy_bind_date</td>\n",
    "      <td>Represents the date when the insurance policy was initiated.</td>\n",
    "    </tr>\n",
    "    <tr>\n",
    "      <td>policy_state</td>\n",
    "      <td>Represents the state where the insurance policy is applicable.</td>\n",
    "    </tr>\n",
    "    <tr>\n",
    "      <td>policy_csl</td>\n",
    "      <td>Represents the combined single limit for the insurance policy.</td>\n",
    "    </tr>\n",
    "    <tr>\n",
    "      <td>policy_deductable</td>\n",
    "      <td>Represents the amount that the insured person needs to pay before the insurance coverage kicks in.</td>\n",
    "    </tr>\n",
    "    <tr>\n",
    "      <td>policy_annual_premium</td>\n",
    "      <td>Represents the yearly cost of the insurance policy.</td>\n",
    "    </tr>\n",
    "    <tr>\n",
    "      <td>umbrella_limit</td>\n",
    "      <td>Represents an additional layer of liability coverage provided beyond the limits of the primary insurance policy.</td>\n",
    "    </tr>\n",
    "    <tr>\n",
    "      <td>insured_zip</td>\n",
    "      <td>Represents the zip code of the insured person.</td>\n",
    "    </tr>\n",
    "    <tr>\n",
    "      <td>insured_sex</td>\n",
    "      <td>Represents the gender of the insured person.</td>\n",
    "    </tr>\n",
    "    <tr>\n",
    "      <td>insured_education_level</td>\n",
    "      <td>Represents the highest educational qualification of the insured person.</td>\n",
    "    </tr>\n",
    "    <tr>\n",
    "      <td>insured_occupation</td>\n",
    "      <td>Represents the profession or job of the insured person.</td>\n",
    "    </tr>\n",
    "    <tr>\n",
    "      <td>insured_hobbies</td>\n",
    "      <td>Represents the hobbies or leisure activities of the insured person.</td>\n",
    "    </tr>\n",
    "    <tr>\n",
    "      <td>insured_relationship</td>\n",
    "      <td>Represents the relationship of the insured person to the policyholder.</td>\n",
    "    </tr>\n",
    "    <tr>\n",
    "      <td>capital-gains</td>\n",
    "      <td>Represents the profit earned from the sale of assets such as stocks, bonds, or real estate.</td>\n",
    "    </tr>\n",
    "    <tr>\n",
    "      <td>capital-loss</td>\n",
    "      <td>Represents the loss incurred from the sale of assets such as stocks, bonds, or real estate.</td>\n",
    "    </tr>\n",
    "    <tr>\n",
    "      <td>incident_date</td>\n",
    "      <td>Represents the date when the incident or accident occurred.</td>\n",
    "    </tr>\n",
    "    <tr>\n",
    "      <td>incident_type</td>\n",
    "      <td>Represents the category or type of incident that led to the claim.</td>\n",
    "    </tr>\n",
    "    <tr>\n",
    "      <td>collision_type</td>\n",
    "      <td>Represents the type of collision that occurred in an accident.</td>\n",
    "    </tr>\n",
    "    <tr>\n",
    "      <td>incident_severity</td>\n",
    "      <td>Represents the extent of damage or injury caused by the incident.</td>\n",
    "    </tr>\n",
    "    <tr>\n",
    "      <td>authorities_contacted</td>\n",
    "      <td>Represents the authorities or agencies that were contacted after the incident.</td>\n",
    "    </tr>\n",
    "    <tr>\n",
    "      <td>incident_state</td>\n",
    "      <td>Represents the state where the incident occurred.</td>\n",
    "    </tr>\n",
    "    <tr>\n",
    "      <td>incident_city</td>\n",
    "      <td>Represents the city where the incident occurred.</td>\n",
    "    </tr>\n",
    "    <tr>\n",
    "      <td>incident_location</td>\n",
    "      <td>Represents the specific location or address where the incident occurred.</td>\n",
    "    </tr>\n",
    "    <tr>\n",
    "      <td>incident_hour_of_the_day</td>\n",
    "      <td>Represents the hour of the day when the incident occurred.</td>\n",
    "    </tr>\n",
    "    <tr>\n",
    "      <td>number_of_vehicles_involved</td>\n",
    "      <td>Represents the total number of vehicles involved in the incident.</td>\n",
    "    </tr>\n",
    "    <tr>\n",
    "      <td>property_damage</td>\n",
    "      <td>Represents whether there was any damage to property in the incident.</td>\n",
    "    </tr>\n",
    "    <tr>\n",
    "      <td>bodily_injuries</td>\n",
    "      <td>Represents the number of bodily injuries resulting from the incident.</td>\n",
    "    </tr>\n",
    "    <tr>\n",
    "      <td>witnesses</td>\n",
    "      <td>Represents the number of witnesses present at the scene of the incident.</td>\n",
    "    </tr>\n",
    "    <tr>\n",
    "      <td>police_report_available</td>\n",
    "      <td>Represents whether a police report is available for the incident.</td>\n",
    "    </tr>\n",
    "    <tr>\n",
    "      <td>total_claim_amount</td>\n",
    "      <td>Represents the total amount claimed by the insured person for the incident.</td>\n",
    "    </tr>\n",
    "    <tr>\n",
    "      <td>injury_claim</td>\n",
    "      <td>Represents the amount claimed for injuries sustained in the incident.</td>\n",
    "    </tr>\n",
    "    <tr>\n",
    "      <td>property_claim</td>\n",
    "      <td>Represents the amount claimed for property damage in the incident.</td>\n",
    "    </tr>\n",
    "    <tr>\n",
    "      <td>vehicle_claim</td>\n",
    "      <td>Represents the amount claimed for vehicle damage in the incident.</td>\n",
    "    </tr>\n",
    "    <tr>\n",
    "      <td>auto_make</td>\n",
    "      <td>Represents the manufacturer of the insured vehicle.</td>\n",
    "    </tr>\n",
    "    <tr>\n",
    "      <td>auto_model</td>\n",
    "      <td>Represents the specific model of the insured vehicle.</td>\n",
    "    </tr>\n",
    "    <tr>\n",
    "      <td>auto_year</td>\n",
    "      <td>Represents the year of manufacture of the insured vehicle.</td>\n",
    "    </tr>\n",
    "    <tr>\n",
    "      <td>fraud_reported</td>\n",
    "      <td>Represents whether the claim was reported as fraudulent or not.</td>\n",
    "    </tr>\n",
    "    <tr>\n",
    "      <td>_c39</td>\n",
    "      <td>Represents an unknown or unspecified variable.</td>\n",
    "    </tr>\n",
    "  </tbody>\n",
    "</table>"
   ]
  },
  {
   "cell_type": "markdown",
   "metadata": {
    "id": "2Hfg3nHjDPWY"
   },
   "source": [
    "## **1. Data Preparation**\n",
    "In this step, read the dataset provided in CSV format and look at basic statistics of the data, including preview of data, dimension of data, column descriptions and data types."
   ]
  },
  {
   "cell_type": "markdown",
   "metadata": {
    "id": "2xZBs5L_DPWY"
   },
   "source": [
    "### **1.0 Import Libraries**"
   ]
  },
  {
   "cell_type": "code",
   "execution_count": 1,
   "metadata": {
    "id": "2xUZYP92DPWY"
   },
   "outputs": [],
   "source": [
    "# Supress unnecessary warnings\n",
    "import warnings\n",
    "warnings.filterwarnings(\"ignore\")"
   ]
  },
  {
   "cell_type": "code",
   "execution_count": 3,
   "metadata": {
    "id": "6glz5HkPDPWZ"
   },
   "outputs": [],
   "source": [
    "# Import necessary libraries\n",
    "import numpy as np\n",
    "import pandas as pd\n",
    "import seaborn as sns\n",
    "import matplotlib.pyplot as plt"
   ]
  },
  {
   "cell_type": "markdown",
   "metadata": {
    "id": "D8-RBUdWDPWZ"
   },
   "source": [
    "### **1.1 Load the Data**"
   ]
  },
  {
   "cell_type": "code",
   "execution_count": 19,
   "metadata": {
    "id": "kP0JaSjJDPWZ"
   },
   "outputs": [],
   "source": [
    "# Load the dataset\n",
    "df_insurance = pd.read_csv(\"insurance_claims.csv\")"
   ]
  },
  {
   "cell_type": "code",
   "execution_count": 21,
   "metadata": {
    "id": "qaR4TkqTDPWZ"
   },
   "outputs": [
    {
     "data": {
      "text/html": [
       "<div>\n",
       "<style scoped>\n",
       "    .dataframe tbody tr th:only-of-type {\n",
       "        vertical-align: middle;\n",
       "    }\n",
       "\n",
       "    .dataframe tbody tr th {\n",
       "        vertical-align: top;\n",
       "    }\n",
       "\n",
       "    .dataframe thead th {\n",
       "        text-align: right;\n",
       "    }\n",
       "</style>\n",
       "<table border=\"1\" class=\"dataframe\">\n",
       "  <thead>\n",
       "    <tr style=\"text-align: right;\">\n",
       "      <th></th>\n",
       "      <th>months_as_customer</th>\n",
       "      <th>age</th>\n",
       "      <th>policy_number</th>\n",
       "      <th>policy_bind_date</th>\n",
       "      <th>policy_state</th>\n",
       "      <th>policy_csl</th>\n",
       "      <th>policy_deductable</th>\n",
       "      <th>policy_annual_premium</th>\n",
       "      <th>umbrella_limit</th>\n",
       "      <th>insured_zip</th>\n",
       "      <th>...</th>\n",
       "      <th>police_report_available</th>\n",
       "      <th>total_claim_amount</th>\n",
       "      <th>injury_claim</th>\n",
       "      <th>property_claim</th>\n",
       "      <th>vehicle_claim</th>\n",
       "      <th>auto_make</th>\n",
       "      <th>auto_model</th>\n",
       "      <th>auto_year</th>\n",
       "      <th>fraud_reported</th>\n",
       "      <th>_c39</th>\n",
       "    </tr>\n",
       "  </thead>\n",
       "  <tbody>\n",
       "    <tr>\n",
       "      <th>0</th>\n",
       "      <td>328</td>\n",
       "      <td>48</td>\n",
       "      <td>521585</td>\n",
       "      <td>2014-10-17</td>\n",
       "      <td>OH</td>\n",
       "      <td>250/500</td>\n",
       "      <td>1000</td>\n",
       "      <td>1406.91</td>\n",
       "      <td>0</td>\n",
       "      <td>466132</td>\n",
       "      <td>...</td>\n",
       "      <td>YES</td>\n",
       "      <td>71610</td>\n",
       "      <td>6510</td>\n",
       "      <td>13020</td>\n",
       "      <td>52080</td>\n",
       "      <td>Saab</td>\n",
       "      <td>92x</td>\n",
       "      <td>2004</td>\n",
       "      <td>Y</td>\n",
       "      <td>NaN</td>\n",
       "    </tr>\n",
       "    <tr>\n",
       "      <th>1</th>\n",
       "      <td>228</td>\n",
       "      <td>42</td>\n",
       "      <td>342868</td>\n",
       "      <td>2006-06-27</td>\n",
       "      <td>IN</td>\n",
       "      <td>250/500</td>\n",
       "      <td>2000</td>\n",
       "      <td>1197.22</td>\n",
       "      <td>5000000</td>\n",
       "      <td>468176</td>\n",
       "      <td>...</td>\n",
       "      <td>?</td>\n",
       "      <td>5070</td>\n",
       "      <td>780</td>\n",
       "      <td>780</td>\n",
       "      <td>3510</td>\n",
       "      <td>Mercedes</td>\n",
       "      <td>E400</td>\n",
       "      <td>2007</td>\n",
       "      <td>Y</td>\n",
       "      <td>NaN</td>\n",
       "    </tr>\n",
       "    <tr>\n",
       "      <th>2</th>\n",
       "      <td>134</td>\n",
       "      <td>29</td>\n",
       "      <td>687698</td>\n",
       "      <td>2000-09-06</td>\n",
       "      <td>OH</td>\n",
       "      <td>100/300</td>\n",
       "      <td>2000</td>\n",
       "      <td>1413.14</td>\n",
       "      <td>5000000</td>\n",
       "      <td>430632</td>\n",
       "      <td>...</td>\n",
       "      <td>NO</td>\n",
       "      <td>34650</td>\n",
       "      <td>7700</td>\n",
       "      <td>3850</td>\n",
       "      <td>23100</td>\n",
       "      <td>Dodge</td>\n",
       "      <td>RAM</td>\n",
       "      <td>2007</td>\n",
       "      <td>N</td>\n",
       "      <td>NaN</td>\n",
       "    </tr>\n",
       "    <tr>\n",
       "      <th>3</th>\n",
       "      <td>256</td>\n",
       "      <td>41</td>\n",
       "      <td>227811</td>\n",
       "      <td>1990-05-25</td>\n",
       "      <td>IL</td>\n",
       "      <td>250/500</td>\n",
       "      <td>2000</td>\n",
       "      <td>1415.74</td>\n",
       "      <td>6000000</td>\n",
       "      <td>608117</td>\n",
       "      <td>...</td>\n",
       "      <td>NO</td>\n",
       "      <td>63400</td>\n",
       "      <td>6340</td>\n",
       "      <td>6340</td>\n",
       "      <td>50720</td>\n",
       "      <td>Chevrolet</td>\n",
       "      <td>Tahoe</td>\n",
       "      <td>2014</td>\n",
       "      <td>Y</td>\n",
       "      <td>NaN</td>\n",
       "    </tr>\n",
       "    <tr>\n",
       "      <th>4</th>\n",
       "      <td>228</td>\n",
       "      <td>44</td>\n",
       "      <td>367455</td>\n",
       "      <td>2014-06-06</td>\n",
       "      <td>IL</td>\n",
       "      <td>500/1000</td>\n",
       "      <td>1000</td>\n",
       "      <td>1583.91</td>\n",
       "      <td>6000000</td>\n",
       "      <td>610706</td>\n",
       "      <td>...</td>\n",
       "      <td>NO</td>\n",
       "      <td>6500</td>\n",
       "      <td>1300</td>\n",
       "      <td>650</td>\n",
       "      <td>4550</td>\n",
       "      <td>Accura</td>\n",
       "      <td>RSX</td>\n",
       "      <td>2009</td>\n",
       "      <td>N</td>\n",
       "      <td>NaN</td>\n",
       "    </tr>\n",
       "  </tbody>\n",
       "</table>\n",
       "<p>5 rows × 40 columns</p>\n",
       "</div>"
      ],
      "text/plain": [
       "   months_as_customer  age  policy_number policy_bind_date policy_state  \\\n",
       "0                 328   48         521585       2014-10-17           OH   \n",
       "1                 228   42         342868       2006-06-27           IN   \n",
       "2                 134   29         687698       2000-09-06           OH   \n",
       "3                 256   41         227811       1990-05-25           IL   \n",
       "4                 228   44         367455       2014-06-06           IL   \n",
       "\n",
       "  policy_csl  policy_deductable  policy_annual_premium  umbrella_limit  \\\n",
       "0    250/500               1000                1406.91               0   \n",
       "1    250/500               2000                1197.22         5000000   \n",
       "2    100/300               2000                1413.14         5000000   \n",
       "3    250/500               2000                1415.74         6000000   \n",
       "4   500/1000               1000                1583.91         6000000   \n",
       "\n",
       "   insured_zip  ... police_report_available total_claim_amount injury_claim  \\\n",
       "0       466132  ...                     YES              71610         6510   \n",
       "1       468176  ...                       ?               5070          780   \n",
       "2       430632  ...                      NO              34650         7700   \n",
       "3       608117  ...                      NO              63400         6340   \n",
       "4       610706  ...                      NO               6500         1300   \n",
       "\n",
       "  property_claim vehicle_claim  auto_make  auto_model auto_year  \\\n",
       "0          13020         52080       Saab         92x      2004   \n",
       "1            780          3510   Mercedes        E400      2007   \n",
       "2           3850         23100      Dodge         RAM      2007   \n",
       "3           6340         50720  Chevrolet       Tahoe      2014   \n",
       "4            650          4550     Accura         RSX      2009   \n",
       "\n",
       "  fraud_reported _c39  \n",
       "0              Y  NaN  \n",
       "1              Y  NaN  \n",
       "2              N  NaN  \n",
       "3              Y  NaN  \n",
       "4              N  NaN  \n",
       "\n",
       "[5 rows x 40 columns]"
      ]
     },
     "execution_count": 21,
     "metadata": {},
     "output_type": "execute_result"
    }
   ],
   "source": [
    "# Check at the first few entries\n",
    "df_insurance.head()"
   ]
  },
  {
   "cell_type": "code",
   "execution_count": 23,
   "metadata": {
    "id": "TK9_lipzDPWa"
   },
   "outputs": [
    {
     "data": {
      "text/plain": [
       "(1000, 40)"
      ]
     },
     "execution_count": 23,
     "metadata": {},
     "output_type": "execute_result"
    }
   ],
   "source": [
    "# Inspect the shape of the dataset\n",
    "df_insurance.shape"
   ]
  },
  {
   "cell_type": "code",
   "execution_count": 25,
   "metadata": {
    "id": "Fd0PADNIuqov"
   },
   "outputs": [
    {
     "name": "stdout",
     "output_type": "stream",
     "text": [
      "<class 'pandas.core.frame.DataFrame'>\n",
      "RangeIndex: 1000 entries, 0 to 999\n",
      "Data columns (total 40 columns):\n",
      " #   Column                       Non-Null Count  Dtype  \n",
      "---  ------                       --------------  -----  \n",
      " 0   months_as_customer           1000 non-null   int64  \n",
      " 1   age                          1000 non-null   int64  \n",
      " 2   policy_number                1000 non-null   int64  \n",
      " 3   policy_bind_date             1000 non-null   object \n",
      " 4   policy_state                 1000 non-null   object \n",
      " 5   policy_csl                   1000 non-null   object \n",
      " 6   policy_deductable            1000 non-null   int64  \n",
      " 7   policy_annual_premium        1000 non-null   float64\n",
      " 8   umbrella_limit               1000 non-null   int64  \n",
      " 9   insured_zip                  1000 non-null   int64  \n",
      " 10  insured_sex                  1000 non-null   object \n",
      " 11  insured_education_level      1000 non-null   object \n",
      " 12  insured_occupation           1000 non-null   object \n",
      " 13  insured_hobbies              1000 non-null   object \n",
      " 14  insured_relationship         1000 non-null   object \n",
      " 15  capital-gains                1000 non-null   int64  \n",
      " 16  capital-loss                 1000 non-null   int64  \n",
      " 17  incident_date                1000 non-null   object \n",
      " 18  incident_type                1000 non-null   object \n",
      " 19  collision_type               1000 non-null   object \n",
      " 20  incident_severity            1000 non-null   object \n",
      " 21  authorities_contacted        909 non-null    object \n",
      " 22  incident_state               1000 non-null   object \n",
      " 23  incident_city                1000 non-null   object \n",
      " 24  incident_location            1000 non-null   object \n",
      " 25  incident_hour_of_the_day     1000 non-null   int64  \n",
      " 26  number_of_vehicles_involved  1000 non-null   int64  \n",
      " 27  property_damage              1000 non-null   object \n",
      " 28  bodily_injuries              1000 non-null   int64  \n",
      " 29  witnesses                    1000 non-null   int64  \n",
      " 30  police_report_available      1000 non-null   object \n",
      " 31  total_claim_amount           1000 non-null   int64  \n",
      " 32  injury_claim                 1000 non-null   int64  \n",
      " 33  property_claim               1000 non-null   int64  \n",
      " 34  vehicle_claim                1000 non-null   int64  \n",
      " 35  auto_make                    1000 non-null   object \n",
      " 36  auto_model                   1000 non-null   object \n",
      " 37  auto_year                    1000 non-null   int64  \n",
      " 38  fraud_reported               1000 non-null   object \n",
      " 39  _c39                         0 non-null      float64\n",
      "dtypes: float64(2), int64(17), object(21)\n",
      "memory usage: 312.6+ KB\n"
     ]
    }
   ],
   "source": [
    "# Inspect the features in the dataset\n",
    "df_insurance.info()"
   ]
  },
  {
   "cell_type": "markdown",
   "metadata": {
    "id": "YRijmf2EDPWa"
   },
   "source": [
    "## **2. Data Cleaning** <font color = red>[10 marks]</font>"
   ]
  },
  {
   "cell_type": "markdown",
   "metadata": {
    "id": "DxXOACINDPWa"
   },
   "source": [
    "### **2.1 Handle null values** <font color = red>[2 marks]</font>"
   ]
  },
  {
   "cell_type": "markdown",
   "metadata": {
    "id": "kJDjZSkmDPWa"
   },
   "source": [
    "#### **2.1.1** Examine the columns to determine if any value or column needs to be treated <font color=\"red\">[1 Mark]</font>"
   ]
  },
  {
   "cell_type": "code",
   "execution_count": 30,
   "metadata": {
    "id": "3B4OtvQlDPWa"
   },
   "outputs": [
    {
     "data": {
      "text/plain": [
       "months_as_customer                0\n",
       "age                               0\n",
       "policy_number                     0\n",
       "policy_bind_date                  0\n",
       "policy_state                      0\n",
       "policy_csl                        0\n",
       "policy_deductable                 0\n",
       "policy_annual_premium             0\n",
       "umbrella_limit                    0\n",
       "insured_zip                       0\n",
       "insured_sex                       0\n",
       "insured_education_level           0\n",
       "insured_occupation                0\n",
       "insured_hobbies                   0\n",
       "insured_relationship              0\n",
       "capital-gains                     0\n",
       "capital-loss                      0\n",
       "incident_date                     0\n",
       "incident_type                     0\n",
       "collision_type                    0\n",
       "incident_severity                 0\n",
       "authorities_contacted            91\n",
       "incident_state                    0\n",
       "incident_city                     0\n",
       "incident_location                 0\n",
       "incident_hour_of_the_day          0\n",
       "number_of_vehicles_involved       0\n",
       "property_damage                   0\n",
       "bodily_injuries                   0\n",
       "witnesses                         0\n",
       "police_report_available           0\n",
       "total_claim_amount                0\n",
       "injury_claim                      0\n",
       "property_claim                    0\n",
       "vehicle_claim                     0\n",
       "auto_make                         0\n",
       "auto_model                        0\n",
       "auto_year                         0\n",
       "fraud_reported                    0\n",
       "_c39                           1000\n",
       "dtype: int64"
      ]
     },
     "execution_count": 30,
     "metadata": {},
     "output_type": "execute_result"
    }
   ],
   "source": [
    "# Check the number of missing values in each column\n",
    "df_insurance.isnull().sum()"
   ]
  },
  {
   "cell_type": "markdown",
   "metadata": {
    "id": "AE6K2iqkDPWb"
   },
   "source": [
    "#### **2.1.2** Handle rows containing null values <font color=\"red\">[1 Mark]</font>"
   ]
  },
  {
   "cell_type": "code",
   "execution_count": 33,
   "metadata": {
    "id": "88PX2r5hDPWb",
    "scrolled": true
   },
   "outputs": [
    {
     "data": {
      "text/html": [
       "<div>\n",
       "<style scoped>\n",
       "    .dataframe tbody tr th:only-of-type {\n",
       "        vertical-align: middle;\n",
       "    }\n",
       "\n",
       "    .dataframe tbody tr th {\n",
       "        vertical-align: top;\n",
       "    }\n",
       "\n",
       "    .dataframe thead th {\n",
       "        text-align: right;\n",
       "    }\n",
       "</style>\n",
       "<table border=\"1\" class=\"dataframe\">\n",
       "  <thead>\n",
       "    <tr style=\"text-align: right;\">\n",
       "      <th></th>\n",
       "      <th>months_as_customer</th>\n",
       "      <th>age</th>\n",
       "      <th>policy_number</th>\n",
       "      <th>policy_bind_date</th>\n",
       "      <th>policy_state</th>\n",
       "      <th>policy_csl</th>\n",
       "      <th>policy_deductable</th>\n",
       "      <th>policy_annual_premium</th>\n",
       "      <th>umbrella_limit</th>\n",
       "      <th>insured_zip</th>\n",
       "      <th>...</th>\n",
       "      <th>police_report_available</th>\n",
       "      <th>total_claim_amount</th>\n",
       "      <th>injury_claim</th>\n",
       "      <th>property_claim</th>\n",
       "      <th>vehicle_claim</th>\n",
       "      <th>auto_make</th>\n",
       "      <th>auto_model</th>\n",
       "      <th>auto_year</th>\n",
       "      <th>fraud_reported</th>\n",
       "      <th>_c39</th>\n",
       "    </tr>\n",
       "  </thead>\n",
       "  <tbody>\n",
       "    <tr>\n",
       "      <th>0</th>\n",
       "      <td>328</td>\n",
       "      <td>48</td>\n",
       "      <td>521585</td>\n",
       "      <td>2014-10-17</td>\n",
       "      <td>OH</td>\n",
       "      <td>250/500</td>\n",
       "      <td>1000</td>\n",
       "      <td>1406.91</td>\n",
       "      <td>0</td>\n",
       "      <td>466132</td>\n",
       "      <td>...</td>\n",
       "      <td>YES</td>\n",
       "      <td>71610</td>\n",
       "      <td>6510</td>\n",
       "      <td>13020</td>\n",
       "      <td>52080</td>\n",
       "      <td>Saab</td>\n",
       "      <td>92x</td>\n",
       "      <td>2004</td>\n",
       "      <td>Y</td>\n",
       "      <td>NaN</td>\n",
       "    </tr>\n",
       "    <tr>\n",
       "      <th>1</th>\n",
       "      <td>228</td>\n",
       "      <td>42</td>\n",
       "      <td>342868</td>\n",
       "      <td>2006-06-27</td>\n",
       "      <td>IN</td>\n",
       "      <td>250/500</td>\n",
       "      <td>2000</td>\n",
       "      <td>1197.22</td>\n",
       "      <td>5000000</td>\n",
       "      <td>468176</td>\n",
       "      <td>...</td>\n",
       "      <td>?</td>\n",
       "      <td>5070</td>\n",
       "      <td>780</td>\n",
       "      <td>780</td>\n",
       "      <td>3510</td>\n",
       "      <td>Mercedes</td>\n",
       "      <td>E400</td>\n",
       "      <td>2007</td>\n",
       "      <td>Y</td>\n",
       "      <td>NaN</td>\n",
       "    </tr>\n",
       "    <tr>\n",
       "      <th>2</th>\n",
       "      <td>134</td>\n",
       "      <td>29</td>\n",
       "      <td>687698</td>\n",
       "      <td>2000-09-06</td>\n",
       "      <td>OH</td>\n",
       "      <td>100/300</td>\n",
       "      <td>2000</td>\n",
       "      <td>1413.14</td>\n",
       "      <td>5000000</td>\n",
       "      <td>430632</td>\n",
       "      <td>...</td>\n",
       "      <td>NO</td>\n",
       "      <td>34650</td>\n",
       "      <td>7700</td>\n",
       "      <td>3850</td>\n",
       "      <td>23100</td>\n",
       "      <td>Dodge</td>\n",
       "      <td>RAM</td>\n",
       "      <td>2007</td>\n",
       "      <td>N</td>\n",
       "      <td>NaN</td>\n",
       "    </tr>\n",
       "    <tr>\n",
       "      <th>3</th>\n",
       "      <td>256</td>\n",
       "      <td>41</td>\n",
       "      <td>227811</td>\n",
       "      <td>1990-05-25</td>\n",
       "      <td>IL</td>\n",
       "      <td>250/500</td>\n",
       "      <td>2000</td>\n",
       "      <td>1415.74</td>\n",
       "      <td>6000000</td>\n",
       "      <td>608117</td>\n",
       "      <td>...</td>\n",
       "      <td>NO</td>\n",
       "      <td>63400</td>\n",
       "      <td>6340</td>\n",
       "      <td>6340</td>\n",
       "      <td>50720</td>\n",
       "      <td>Chevrolet</td>\n",
       "      <td>Tahoe</td>\n",
       "      <td>2014</td>\n",
       "      <td>Y</td>\n",
       "      <td>NaN</td>\n",
       "    </tr>\n",
       "    <tr>\n",
       "      <th>5</th>\n",
       "      <td>256</td>\n",
       "      <td>39</td>\n",
       "      <td>104594</td>\n",
       "      <td>2006-10-12</td>\n",
       "      <td>OH</td>\n",
       "      <td>250/500</td>\n",
       "      <td>1000</td>\n",
       "      <td>1351.10</td>\n",
       "      <td>0</td>\n",
       "      <td>478456</td>\n",
       "      <td>...</td>\n",
       "      <td>NO</td>\n",
       "      <td>64100</td>\n",
       "      <td>6410</td>\n",
       "      <td>6410</td>\n",
       "      <td>51280</td>\n",
       "      <td>Saab</td>\n",
       "      <td>95</td>\n",
       "      <td>2003</td>\n",
       "      <td>Y</td>\n",
       "      <td>NaN</td>\n",
       "    </tr>\n",
       "  </tbody>\n",
       "</table>\n",
       "<p>5 rows × 40 columns</p>\n",
       "</div>"
      ],
      "text/plain": [
       "   months_as_customer  age  policy_number policy_bind_date policy_state  \\\n",
       "0                 328   48         521585       2014-10-17           OH   \n",
       "1                 228   42         342868       2006-06-27           IN   \n",
       "2                 134   29         687698       2000-09-06           OH   \n",
       "3                 256   41         227811       1990-05-25           IL   \n",
       "5                 256   39         104594       2006-10-12           OH   \n",
       "\n",
       "  policy_csl  policy_deductable  policy_annual_premium  umbrella_limit  \\\n",
       "0    250/500               1000                1406.91               0   \n",
       "1    250/500               2000                1197.22         5000000   \n",
       "2    100/300               2000                1413.14         5000000   \n",
       "3    250/500               2000                1415.74         6000000   \n",
       "5    250/500               1000                1351.10               0   \n",
       "\n",
       "   insured_zip  ... police_report_available total_claim_amount injury_claim  \\\n",
       "0       466132  ...                     YES              71610         6510   \n",
       "1       468176  ...                       ?               5070          780   \n",
       "2       430632  ...                      NO              34650         7700   \n",
       "3       608117  ...                      NO              63400         6340   \n",
       "5       478456  ...                      NO              64100         6410   \n",
       "\n",
       "  property_claim vehicle_claim  auto_make  auto_model auto_year  \\\n",
       "0          13020         52080       Saab         92x      2004   \n",
       "1            780          3510   Mercedes        E400      2007   \n",
       "2           3850         23100      Dodge         RAM      2007   \n",
       "3           6340         50720  Chevrolet       Tahoe      2014   \n",
       "5           6410         51280       Saab          95      2003   \n",
       "\n",
       "  fraud_reported _c39  \n",
       "0              Y  NaN  \n",
       "1              Y  NaN  \n",
       "2              N  NaN  \n",
       "3              Y  NaN  \n",
       "5              Y  NaN  \n",
       "\n",
       "[5 rows x 40 columns]"
      ]
     },
     "execution_count": 33,
     "metadata": {},
     "output_type": "execute_result"
    }
   ],
   "source": [
    "# Handle the rows containing null values\n",
    "df_insurance=df_insurance[~df_insurance[\"authorities_contacted\"].isnull()]\n",
    "df_insurance.head()"
   ]
  },
  {
   "cell_type": "code",
   "execution_count": 35,
   "metadata": {
    "scrolled": true
   },
   "outputs": [
    {
     "data": {
      "text/plain": [
       "months_as_customer               0\n",
       "age                              0\n",
       "policy_number                    0\n",
       "policy_bind_date                 0\n",
       "policy_state                     0\n",
       "policy_csl                       0\n",
       "policy_deductable                0\n",
       "policy_annual_premium            0\n",
       "umbrella_limit                   0\n",
       "insured_zip                      0\n",
       "insured_sex                      0\n",
       "insured_education_level          0\n",
       "insured_occupation               0\n",
       "insured_hobbies                  0\n",
       "insured_relationship             0\n",
       "capital-gains                    0\n",
       "capital-loss                     0\n",
       "incident_date                    0\n",
       "incident_type                    0\n",
       "collision_type                   0\n",
       "incident_severity                0\n",
       "authorities_contacted            0\n",
       "incident_state                   0\n",
       "incident_city                    0\n",
       "incident_location                0\n",
       "incident_hour_of_the_day         0\n",
       "number_of_vehicles_involved      0\n",
       "property_damage                  0\n",
       "bodily_injuries                  0\n",
       "witnesses                        0\n",
       "police_report_available          0\n",
       "total_claim_amount               0\n",
       "injury_claim                     0\n",
       "property_claim                   0\n",
       "vehicle_claim                    0\n",
       "auto_make                        0\n",
       "auto_model                       0\n",
       "auto_year                        0\n",
       "fraud_reported                   0\n",
       "_c39                           909\n",
       "dtype: int64"
      ]
     },
     "execution_count": 35,
     "metadata": {},
     "output_type": "execute_result"
    }
   ],
   "source": [
    "## Checking the null count after removing null \n",
    "\n",
    "df_insurance.isnull().sum()"
   ]
  },
  {
   "cell_type": "markdown",
   "metadata": {
    "id": "202JyqOjDPWb"
   },
   "source": [
    "### **2.2 Identify and handle redundant values and columns** <font color = red>[5 marks]</font>"
   ]
  },
  {
   "cell_type": "markdown",
   "metadata": {
    "id": "fSh2wYZoDPWb"
   },
   "source": [
    "#### **2.2.1** Examine the columns to determine if any value or column needs to be treated <font color=\"red\">[2 Mark]</font>"
   ]
  },
  {
   "cell_type": "code",
   "execution_count": 39,
   "metadata": {
    "id": "1x0Cn8BiDPWb"
   },
   "outputs": [
    {
     "name": "stdout",
     "output_type": "stream",
     "text": [
      "Columnn :  months_as_customer\n",
      "Unique Values :  months_as_customer\n",
      "285    7\n",
      "128    7\n",
      "254    7\n",
      "230    7\n",
      "259    6\n",
      "      ..\n",
      "60     1\n",
      "447    1\n",
      "414    1\n",
      "352    1\n",
      "17     1\n",
      "Name: count, Length: 384, dtype: int64\n",
      "**********************\n",
      "Columnn :  age\n",
      "Unique Values :  age\n",
      "43    45\n",
      "41    43\n",
      "39    43\n",
      "38    40\n",
      "37    39\n",
      "30    38\n",
      "32    36\n",
      "34    36\n",
      "31    35\n",
      "33    35\n",
      "40    34\n",
      "29    32\n",
      "46    31\n",
      "42    30\n",
      "36    29\n",
      "44    29\n",
      "28    28\n",
      "35    26\n",
      "26    25\n",
      "45    24\n",
      "48    23\n",
      "47    22\n",
      "27    21\n",
      "57    14\n",
      "50    13\n",
      "53    13\n",
      "55    12\n",
      "25    12\n",
      "54    10\n",
      "61    10\n",
      "49     9\n",
      "60     9\n",
      "56     8\n",
      "51     8\n",
      "24     8\n",
      "58     8\n",
      "23     7\n",
      "21     6\n",
      "52     4\n",
      "62     4\n",
      "59     4\n",
      "64     2\n",
      "19     1\n",
      "20     1\n",
      "22     1\n",
      "63     1\n",
      "Name: count, dtype: int64\n",
      "**********************\n",
      "Columnn :  policy_number\n",
      "Unique Values :  policy_number\n",
      "521585    1\n",
      "797634    1\n",
      "261905    1\n",
      "674485    1\n",
      "223404    1\n",
      "         ..\n",
      "613226    1\n",
      "804410    1\n",
      "553565    1\n",
      "399524    1\n",
      "556080    1\n",
      "Name: count, Length: 909, dtype: int64\n",
      "**********************\n",
      "Columnn :  policy_bind_date\n",
      "Unique Values :  policy_bind_date\n",
      "2006-01-01    3\n",
      "1992-04-28    3\n",
      "1992-08-05    3\n",
      "1992-01-05    2\n",
      "2002-12-21    2\n",
      "             ..\n",
      "2013-07-07    1\n",
      "2003-07-05    1\n",
      "1995-02-18    1\n",
      "2014-12-13    1\n",
      "1996-11-11    1\n",
      "Name: count, Length: 865, dtype: int64\n",
      "**********************\n",
      "Columnn :  policy_state\n",
      "Unique Values :  policy_state\n",
      "OH    319\n",
      "IL    310\n",
      "IN    280\n",
      "Name: count, dtype: int64\n",
      "**********************\n",
      "Columnn :  policy_csl\n",
      "Unique Values :  policy_csl\n",
      "100/300     326\n",
      "250/500     316\n",
      "500/1000    267\n",
      "Name: count, dtype: int64\n",
      "**********************\n",
      "Columnn :  policy_deductable\n",
      "Unique Values :  policy_deductable\n",
      "1000    317\n",
      "500     315\n",
      "2000    277\n",
      "Name: count, dtype: int64\n",
      "**********************\n",
      "Columnn :  policy_annual_premium\n",
      "Unique Values :  policy_annual_premium\n",
      "1362.87    2\n",
      "1215.36    2\n",
      "1524.45    2\n",
      "1374.22    2\n",
      "1558.29    2\n",
      "          ..\n",
      "929.70     1\n",
      "1829.63    1\n",
      "904.70     1\n",
      "1243.84    1\n",
      "766.19     1\n",
      "Name: count, Length: 903, dtype: int64\n",
      "**********************\n",
      "Columnn :  umbrella_limit\n",
      "Unique Values :  umbrella_limit\n",
      " 0           726\n",
      " 6000000      50\n",
      " 5000000      43\n",
      " 4000000      37\n",
      " 7000000      24\n",
      " 3000000      11\n",
      " 8000000       8\n",
      " 9000000       4\n",
      " 2000000       3\n",
      " 10000000      2\n",
      "-1000000       1\n",
      "Name: count, dtype: int64\n",
      "**********************\n",
      "Columnn :  insured_zip\n",
      "Unique Values :  insured_zip\n",
      "477695    2\n",
      "469429    2\n",
      "456602    2\n",
      "431202    2\n",
      "446895    2\n",
      "         ..\n",
      "460722    1\n",
      "618632    1\n",
      "452204    1\n",
      "454530    1\n",
      "612260    1\n",
      "Name: count, Length: 904, dtype: int64\n",
      "**********************\n",
      "Columnn :  insured_sex\n",
      "Unique Values :  insured_sex\n",
      "FEMALE    494\n",
      "MALE      415\n",
      "Name: count, dtype: int64\n",
      "**********************\n",
      "Columnn :  insured_education_level\n",
      "Unique Values :  insured_education_level\n",
      "High School    146\n",
      "JD             145\n",
      "MD             132\n",
      "Masters        130\n",
      "Associate      129\n",
      "PhD            115\n",
      "College        112\n",
      "Name: count, dtype: int64\n",
      "**********************\n",
      "Columnn :  insured_occupation\n",
      "Unique Values :  insured_occupation\n",
      "machine-op-inspct    87\n",
      "prof-specialty       77\n",
      "tech-support         71\n",
      "craft-repair         70\n",
      "sales                70\n",
      "exec-managerial      68\n",
      "transport-moving     67\n",
      "priv-house-serv      66\n",
      "other-service        61\n",
      "armed-forces         59\n",
      "protective-serv      58\n",
      "adm-clerical         54\n",
      "handlers-cleaners    53\n",
      "farming-fishing      48\n",
      "Name: count, dtype: int64\n",
      "**********************\n",
      "Columnn :  insured_hobbies\n",
      "Unique Values :  insured_hobbies\n",
      "reading           58\n",
      "exercise          54\n",
      "bungie-jumping    52\n",
      "camping           50\n",
      "movies            50\n",
      "hiking            50\n",
      "yachting          49\n",
      "paintball         49\n",
      "golf              47\n",
      "skydiving         47\n",
      "kayaking          46\n",
      "base-jumping      43\n",
      "board-games       43\n",
      "chess             43\n",
      "video-games       43\n",
      "polo              42\n",
      "dancing           40\n",
      "sleeping          38\n",
      "cross-fit         34\n",
      "basketball        31\n",
      "Name: count, dtype: int64\n",
      "**********************\n",
      "Columnn :  insured_relationship\n",
      "Unique Values :  insured_relationship\n",
      "own-child         165\n",
      "other-relative    164\n",
      "husband           156\n",
      "not-in-family     156\n",
      "wife              139\n",
      "unmarried         129\n",
      "Name: count, dtype: int64\n",
      "**********************\n",
      "Columnn :  capital-gains\n",
      "Unique Values :  capital-gains\n",
      "0        466\n",
      "46300      5\n",
      "51500      4\n",
      "56700      3\n",
      "51100      3\n",
      "        ... \n",
      "48800      1\n",
      "54800      1\n",
      "64000      1\n",
      "56900      1\n",
      "70900      1\n",
      "Name: count, Length: 312, dtype: int64\n",
      "**********************\n",
      "Columnn :  capital-loss\n",
      "Unique Values :  capital-loss\n",
      " 0        432\n",
      "-50300      5\n",
      "-45300      4\n",
      "-31400      4\n",
      "-51000      4\n",
      "         ... \n",
      "-45500      1\n",
      "-71000      1\n",
      "-67300      1\n",
      "-19700      1\n",
      "-32200      1\n",
      "Name: count, Length: 341, dtype: int64\n",
      "**********************\n",
      "Columnn :  incident_date\n",
      "Unique Values :  incident_date\n",
      "2015-02-02    25\n",
      "2015-01-07    24\n",
      "2015-02-17    23\n",
      "2015-01-10    23\n",
      "2015-02-04    23\n",
      "2015-01-24    21\n",
      "2015-01-08    21\n",
      "2015-01-30    20\n",
      "2015-01-19    20\n",
      "2015-02-06    19\n",
      "2015-01-14    19\n",
      "2015-02-12    19\n",
      "2015-01-13    18\n",
      "2015-01-12    18\n",
      "2015-02-14    18\n",
      "2015-01-31    18\n",
      "2015-02-23    18\n",
      "2015-02-08    17\n",
      "2015-02-22    17\n",
      "2015-01-21    17\n",
      "2015-02-01    17\n",
      "2015-01-09    17\n",
      "2015-02-21    16\n",
      "2015-01-03    16\n",
      "2015-02-15    16\n",
      "2015-01-20    16\n",
      "2015-02-25    16\n",
      "2015-01-01    16\n",
      "2015-01-06    16\n",
      "2015-02-28    16\n",
      "2015-01-18    15\n",
      "2015-01-16    15\n",
      "2015-02-13    15\n",
      "2015-02-24    15\n",
      "2015-02-18    14\n",
      "2015-02-26    14\n",
      "2015-02-05    14\n",
      "2015-02-16    14\n",
      "2015-01-23    13\n",
      "2015-01-28    13\n",
      "2015-02-20    13\n",
      "2015-01-15    13\n",
      "2015-01-22    13\n",
      "2015-01-17    13\n",
      "2015-01-27    12\n",
      "2015-03-01    12\n",
      "2015-02-27    12\n",
      "2015-02-03    11\n",
      "2015-01-04    11\n",
      "2015-02-09    11\n",
      "2015-01-29    10\n",
      "2015-01-26    10\n",
      "2015-01-25    10\n",
      "2015-02-11     9\n",
      "2015-01-11     9\n",
      "2015-01-02     9\n",
      "2015-02-07     9\n",
      "2015-02-19     8\n",
      "2015-02-10     7\n",
      "2015-01-05     5\n",
      "Name: count, dtype: int64\n",
      "**********************\n",
      "Columnn :  incident_type\n",
      "Unique Values :  incident_type\n",
      "Multi-vehicle Collision     419\n",
      "Single Vehicle Collision    403\n",
      "Vehicle Theft                53\n",
      "Parked Car                   34\n",
      "Name: count, dtype: int64\n",
      "**********************\n",
      "Columnn :  collision_type\n",
      "Unique Values :  collision_type\n",
      "Rear Collision     292\n",
      "Side Collision     276\n",
      "Front Collision    254\n",
      "?                   87\n",
      "Name: count, dtype: int64\n",
      "**********************\n",
      "Columnn :  incident_severity\n",
      "Unique Values :  incident_severity\n",
      "Minor Damage      304\n",
      "Total Loss        280\n",
      "Major Damage      276\n",
      "Trivial Damage     49\n",
      "Name: count, dtype: int64\n",
      "**********************\n",
      "Columnn :  authorities_contacted\n",
      "Unique Values :  authorities_contacted\n",
      "Police       292\n",
      "Fire         223\n",
      "Other        198\n",
      "Ambulance    196\n",
      "Name: count, dtype: int64\n",
      "**********************\n",
      "Columnn :  incident_state\n",
      "Unique Values :  incident_state\n",
      "NY    246\n",
      "SC    225\n",
      "WV    196\n",
      "NC     97\n",
      "VA     96\n",
      "PA     29\n",
      "OH     20\n",
      "Name: count, dtype: int64\n",
      "**********************\n",
      "Columnn :  incident_city\n",
      "Unique Values :  incident_city\n",
      "Springfield    145\n",
      "Columbus       141\n",
      "Northbend      133\n",
      "Arlington      129\n",
      "Hillsdale      128\n",
      "Riverwood      121\n",
      "Northbrook     112\n",
      "Name: count, dtype: int64\n",
      "**********************\n",
      "Columnn :  incident_location\n",
      "Unique Values :  incident_location\n",
      "9935 4th Drive         1\n",
      "8639 5th Hwy           1\n",
      "4835 Britain Ridge     1\n",
      "8548 Cherokee Ridge    1\n",
      "2352 MLK Drive         1\n",
      "                      ..\n",
      "6945 Texas Hwy         1\n",
      "5639 1st Ridge         1\n",
      "3834 Pine St           1\n",
      "1358 Maple St          1\n",
      "1416 Cherokee Ridge    1\n",
      "Name: count, Length: 909, dtype: int64\n",
      "**********************\n",
      "Columnn :  incident_hour_of_the_day\n",
      "Unique Values :  incident_hour_of_the_day\n",
      "17    51\n",
      "23    51\n",
      "0     49\n",
      "16    47\n",
      "13    42\n",
      "21    42\n",
      "14    42\n",
      "12    40\n",
      "18    40\n",
      "10    40\n",
      "3     40\n",
      "19    39\n",
      "4     38\n",
      "22    38\n",
      "15    38\n",
      "9     34\n",
      "6     33\n",
      "7     33\n",
      "20    32\n",
      "11    30\n",
      "2     30\n",
      "1     27\n",
      "8     27\n",
      "5     26\n",
      "Name: count, dtype: int64\n",
      "**********************\n",
      "Columnn :  number_of_vehicles_involved\n",
      "Unique Values :  number_of_vehicles_involved\n",
      "1    490\n",
      "3    358\n",
      "4     31\n",
      "2     30\n",
      "Name: count, dtype: int64\n",
      "**********************\n",
      "Columnn :  property_damage\n",
      "Unique Values :  property_damage\n",
      "?      329\n",
      "NO     304\n",
      "YES    276\n",
      "Name: count, dtype: int64\n",
      "**********************\n",
      "Columnn :  bodily_injuries\n",
      "Unique Values :  bodily_injuries\n",
      "2    309\n",
      "0    307\n",
      "1    293\n",
      "Name: count, dtype: int64\n",
      "**********************\n",
      "Columnn :  witnesses\n",
      "Unique Values :  witnesses\n",
      "2    234\n",
      "0    230\n",
      "1    228\n",
      "3    217\n",
      "Name: count, dtype: int64\n",
      "**********************\n",
      "Columnn :  police_report_available\n",
      "Unique Values :  police_report_available\n",
      "?      316\n",
      "NO     307\n",
      "YES    286\n",
      "Name: count, dtype: int64\n",
      "**********************\n",
      "Columnn :  total_claim_amount\n",
      "Unique Values :  total_claim_amount\n",
      "59400    5\n",
      "58500    4\n",
      "60600    4\n",
      "75400    4\n",
      "70290    4\n",
      "        ..\n",
      "44880    1\n",
      "82830    1\n",
      "84480    1\n",
      "53020    1\n",
      "5060     1\n",
      "Name: count, Length: 719, dtype: int64\n",
      "**********************\n",
      "Columnn :  injury_claim\n",
      "Unique Values :  injury_claim\n",
      "0        24\n",
      "5540      5\n",
      "6340      5\n",
      "13520     5\n",
      "5000      4\n",
      "         ..\n",
      "13660     1\n",
      "6370      1\n",
      "4650      1\n",
      "6660      1\n",
      "460       1\n",
      "Name: count, Length: 616, dtype: int64\n",
      "**********************\n",
      "Columnn :  property_claim\n",
      "Unique Values :  property_claim\n",
      "0        18\n",
      "11080     5\n",
      "10000     5\n",
      "7000      4\n",
      "11100     4\n",
      "         ..\n",
      "3590      1\n",
      "6480      1\n",
      "4580      1\n",
      "4920      1\n",
      "920       1\n",
      "Name: count, Length: 603, dtype: int64\n",
      "**********************\n",
      "Columnn :  vehicle_claim\n",
      "Unique Values :  vehicle_claim\n",
      "52080    5\n",
      "33600    5\n",
      "44800    5\n",
      "41760    4\n",
      "46800    4\n",
      "        ..\n",
      "43360    1\n",
      "25130    1\n",
      "38940    1\n",
      "47430    1\n",
      "3680     1\n",
      "Name: count, Length: 691, dtype: int64\n",
      "**********************\n",
      "Columnn :  auto_make\n",
      "Unique Values :  auto_make\n",
      "Suburu        74\n",
      "Saab          72\n",
      "Dodge         72\n",
      "Nissan        69\n",
      "Ford          67\n",
      "BMW           67\n",
      "Chevrolet     66\n",
      "Audi          63\n",
      "Accura        63\n",
      "Toyota        62\n",
      "Jeep          62\n",
      "Volkswagen    62\n",
      "Mercedes      60\n",
      "Honda         50\n",
      "Name: count, dtype: int64\n",
      "**********************\n",
      "Columnn :  auto_model\n",
      "Unique Values :  auto_model\n",
      "RAM               40\n",
      "Wrangler          38\n",
      "Jetta             33\n",
      "A3                33\n",
      "MDX               33\n",
      "Neon              32\n",
      "A5                30\n",
      "Legacy            30\n",
      "Passat            29\n",
      "Pathfinder        27\n",
      "Forrestor         26\n",
      "F150              25\n",
      "95                25\n",
      "Camry             25\n",
      "Malibu            25\n",
      "92x               24\n",
      "E400              24\n",
      "Grand Cherokee    24\n",
      "Escape            23\n",
      "Maxima            23\n",
      "93                23\n",
      "Tahoe             22\n",
      "X5                20\n",
      "Highlander        20\n",
      "CRV               19\n",
      "Ultima            19\n",
      "Fusion            19\n",
      "Silverado         19\n",
      "TL                19\n",
      "Civic             18\n",
      "Impreza           18\n",
      "ML350             18\n",
      "C300              18\n",
      "3 Series          18\n",
      "Corolla           17\n",
      "X6                16\n",
      "Accord            13\n",
      "M5                13\n",
      "RSX               11\n",
      "Name: count, dtype: int64\n",
      "**********************\n",
      "Columnn :  auto_year\n",
      "Unique Values :  auto_year\n",
      "1995    52\n",
      "2005    51\n",
      "2006    51\n",
      "1999    50\n",
      "2007    48\n",
      "2010    47\n",
      "2009    47\n",
      "2011    47\n",
      "2003    46\n",
      "2013    43\n",
      "2012    43\n",
      "2015    42\n",
      "2008    42\n",
      "1997    42\n",
      "2002    41\n",
      "2014    40\n",
      "2000    38\n",
      "2004    36\n",
      "1996    35\n",
      "1998    35\n",
      "2001    33\n",
      "Name: count, dtype: int64\n",
      "**********************\n",
      "Columnn :  fraud_reported\n",
      "Unique Values :  fraud_reported\n",
      "N    668\n",
      "Y    241\n",
      "Name: count, dtype: int64\n",
      "**********************\n",
      "Columnn :  _c39\n",
      "Unique Values :  Series([], Name: count, dtype: int64)\n",
      "**********************\n"
     ]
    }
   ],
   "source": [
    "# Write code to display all the columns with their unique values and counts and check for redundant values\n",
    "\n",
    "## Check Value counts\n",
    "\n",
    "for column in df_insurance.columns:\n",
    "    valCount = df_insurance[column].value_counts()\n",
    "    print(\"Columnn : \",column)\n",
    "    print(\"Unique Values : \",valCount)\n",
    "    print(\"**********************\")\n"
   ]
  },
  {
   "cell_type": "code",
   "execution_count": 41,
   "metadata": {},
   "outputs": [],
   "source": [
    "## Check Redundant rows \n",
    "\n",
    "duplicates = df_insurance.duplicated()\n",
    "if duplicates.any():\n",
    "    print(\"\\nRedundant Rows Found:\")\n",
    "    print(df_insurance[duplicates])\n",
    "## No duplicates found"
   ]
  },
  {
   "cell_type": "markdown",
   "metadata": {
    "id": "RRIhr3ZwDPWb"
   },
   "source": [
    "#### **2.2.2** Identify and drop any columns that are completely empty <font color=\"red\">[1 Mark]</font>"
   ]
  },
  {
   "cell_type": "code",
   "execution_count": 44,
   "metadata": {
    "id": "9vLZf8ExDPWb"
   },
   "outputs": [],
   "source": [
    "# Identify and drop any columns that are completely empty\n",
    "# 1. Drop the _c39 column as all values are null\n",
    "df_insurance = df_insurance.drop('_c39',axis=1)"
   ]
  },
  {
   "cell_type": "markdown",
   "metadata": {
    "id": "1Cx8douODPWd"
   },
   "source": [
    "#### **2.2.3** Identify and drop rows where features have illogical or invalid values, such as negative values for features that should only have positive values <font color=\"red\">[1 Mark]</font>"
   ]
  },
  {
   "cell_type": "code",
   "execution_count": 47,
   "metadata": {
    "id": "U5oARc23DPWd",
    "scrolled": true
   },
   "outputs": [
    {
     "data": {
      "text/html": [
       "<div>\n",
       "<style scoped>\n",
       "    .dataframe tbody tr th:only-of-type {\n",
       "        vertical-align: middle;\n",
       "    }\n",
       "\n",
       "    .dataframe tbody tr th {\n",
       "        vertical-align: top;\n",
       "    }\n",
       "\n",
       "    .dataframe thead th {\n",
       "        text-align: right;\n",
       "    }\n",
       "</style>\n",
       "<table border=\"1\" class=\"dataframe\">\n",
       "  <thead>\n",
       "    <tr style=\"text-align: right;\">\n",
       "      <th></th>\n",
       "      <th>months_as_customer</th>\n",
       "      <th>age</th>\n",
       "      <th>policy_number</th>\n",
       "      <th>policy_deductable</th>\n",
       "      <th>policy_annual_premium</th>\n",
       "      <th>umbrella_limit</th>\n",
       "      <th>insured_zip</th>\n",
       "      <th>capital-gains</th>\n",
       "      <th>capital-loss</th>\n",
       "      <th>incident_hour_of_the_day</th>\n",
       "      <th>number_of_vehicles_involved</th>\n",
       "      <th>bodily_injuries</th>\n",
       "      <th>witnesses</th>\n",
       "      <th>total_claim_amount</th>\n",
       "      <th>injury_claim</th>\n",
       "      <th>property_claim</th>\n",
       "      <th>vehicle_claim</th>\n",
       "      <th>auto_year</th>\n",
       "    </tr>\n",
       "  </thead>\n",
       "  <tbody>\n",
       "    <tr>\n",
       "      <th>count</th>\n",
       "      <td>909.000000</td>\n",
       "      <td>909.000000</td>\n",
       "      <td>909.000000</td>\n",
       "      <td>909.000000</td>\n",
       "      <td>909.000000</td>\n",
       "      <td>9.090000e+02</td>\n",
       "      <td>909.000000</td>\n",
       "      <td>909.000000</td>\n",
       "      <td>909.000000</td>\n",
       "      <td>909.000000</td>\n",
       "      <td>909.000000</td>\n",
       "      <td>909.000000</td>\n",
       "      <td>909.000000</td>\n",
       "      <td>909.000000</td>\n",
       "      <td>909.000000</td>\n",
       "      <td>909.000000</td>\n",
       "      <td>909.000000</td>\n",
       "      <td>909.000000</td>\n",
       "    </tr>\n",
       "    <tr>\n",
       "      <th>mean</th>\n",
       "      <td>205.027503</td>\n",
       "      <td>39.040704</td>\n",
       "      <td>546080.628163</td>\n",
       "      <td>1131.463146</td>\n",
       "      <td>1256.597712</td>\n",
       "      <td>1.088009e+06</td>\n",
       "      <td>500597.042904</td>\n",
       "      <td>24823.652365</td>\n",
       "      <td>-26923.652365</td>\n",
       "      <td>12.062706</td>\n",
       "      <td>1.922992</td>\n",
       "      <td>1.002200</td>\n",
       "      <td>1.481848</td>\n",
       "      <td>57507.645765</td>\n",
       "      <td>8100.891089</td>\n",
       "      <td>8064.906491</td>\n",
       "      <td>41341.848185</td>\n",
       "      <td>2005.125413</td>\n",
       "    </tr>\n",
       "    <tr>\n",
       "      <th>std</th>\n",
       "      <td>116.003078</td>\n",
       "      <td>9.192118</td>\n",
       "      <td>256283.335105</td>\n",
       "      <td>611.958791</td>\n",
       "      <td>245.236621</td>\n",
       "      <td>2.278747e+06</td>\n",
       "      <td>71474.927903</td>\n",
       "      <td>27719.509214</td>\n",
       "      <td>28277.509343</td>\n",
       "      <td>7.005145</td>\n",
       "      <td>1.031769</td>\n",
       "      <td>0.823656</td>\n",
       "      <td>1.111093</td>\n",
       "      <td>22779.061381</td>\n",
       "      <td>4615.021845</td>\n",
       "      <td>4552.940222</td>\n",
       "      <td>16253.292262</td>\n",
       "      <td>6.012991</td>\n",
       "    </tr>\n",
       "    <tr>\n",
       "      <th>min</th>\n",
       "      <td>0.000000</td>\n",
       "      <td>19.000000</td>\n",
       "      <td>100804.000000</td>\n",
       "      <td>500.000000</td>\n",
       "      <td>484.670000</td>\n",
       "      <td>-1.000000e+06</td>\n",
       "      <td>430141.000000</td>\n",
       "      <td>0.000000</td>\n",
       "      <td>-111100.000000</td>\n",
       "      <td>0.000000</td>\n",
       "      <td>1.000000</td>\n",
       "      <td>0.000000</td>\n",
       "      <td>0.000000</td>\n",
       "      <td>100.000000</td>\n",
       "      <td>0.000000</td>\n",
       "      <td>0.000000</td>\n",
       "      <td>70.000000</td>\n",
       "      <td>1995.000000</td>\n",
       "    </tr>\n",
       "    <tr>\n",
       "      <th>25%</th>\n",
       "      <td>116.000000</td>\n",
       "      <td>32.000000</td>\n",
       "      <td>337677.000000</td>\n",
       "      <td>500.000000</td>\n",
       "      <td>1090.030000</td>\n",
       "      <td>0.000000e+00</td>\n",
       "      <td>448190.000000</td>\n",
       "      <td>0.000000</td>\n",
       "      <td>-51800.000000</td>\n",
       "      <td>6.000000</td>\n",
       "      <td>1.000000</td>\n",
       "      <td>0.000000</td>\n",
       "      <td>0.000000</td>\n",
       "      <td>48060.000000</td>\n",
       "      <td>5260.000000</td>\n",
       "      <td>5340.000000</td>\n",
       "      <td>34370.000000</td>\n",
       "      <td>2000.000000</td>\n",
       "    </tr>\n",
       "    <tr>\n",
       "      <th>50%</th>\n",
       "      <td>202.000000</td>\n",
       "      <td>38.000000</td>\n",
       "      <td>532330.000000</td>\n",
       "      <td>1000.000000</td>\n",
       "      <td>1257.040000</td>\n",
       "      <td>0.000000e+00</td>\n",
       "      <td>466390.000000</td>\n",
       "      <td>0.000000</td>\n",
       "      <td>-22300.000000</td>\n",
       "      <td>13.000000</td>\n",
       "      <td>1.000000</td>\n",
       "      <td>1.000000</td>\n",
       "      <td>1.000000</td>\n",
       "      <td>60200.000000</td>\n",
       "      <td>7180.000000</td>\n",
       "      <td>7120.000000</td>\n",
       "      <td>43680.000000</td>\n",
       "      <td>2005.000000</td>\n",
       "    </tr>\n",
       "    <tr>\n",
       "      <th>75%</th>\n",
       "      <td>278.000000</td>\n",
       "      <td>45.000000</td>\n",
       "      <td>757644.000000</td>\n",
       "      <td>2000.000000</td>\n",
       "      <td>1415.680000</td>\n",
       "      <td>0.000000e+00</td>\n",
       "      <td>602942.000000</td>\n",
       "      <td>50400.000000</td>\n",
       "      <td>0.000000</td>\n",
       "      <td>18.000000</td>\n",
       "      <td>3.000000</td>\n",
       "      <td>2.000000</td>\n",
       "      <td>2.000000</td>\n",
       "      <td>72100.000000</td>\n",
       "      <td>11700.000000</td>\n",
       "      <td>11260.000000</td>\n",
       "      <td>51680.000000</td>\n",
       "      <td>2010.000000</td>\n",
       "    </tr>\n",
       "    <tr>\n",
       "      <th>max</th>\n",
       "      <td>479.000000</td>\n",
       "      <td>64.000000</td>\n",
       "      <td>999435.000000</td>\n",
       "      <td>2000.000000</td>\n",
       "      <td>2047.590000</td>\n",
       "      <td>1.000000e+07</td>\n",
       "      <td>620962.000000</td>\n",
       "      <td>100500.000000</td>\n",
       "      <td>0.000000</td>\n",
       "      <td>23.000000</td>\n",
       "      <td>4.000000</td>\n",
       "      <td>2.000000</td>\n",
       "      <td>3.000000</td>\n",
       "      <td>114920.000000</td>\n",
       "      <td>21450.000000</td>\n",
       "      <td>23670.000000</td>\n",
       "      <td>79560.000000</td>\n",
       "      <td>2015.000000</td>\n",
       "    </tr>\n",
       "  </tbody>\n",
       "</table>\n",
       "</div>"
      ],
      "text/plain": [
       "       months_as_customer         age  policy_number  policy_deductable  \\\n",
       "count          909.000000  909.000000     909.000000         909.000000   \n",
       "mean           205.027503   39.040704  546080.628163        1131.463146   \n",
       "std            116.003078    9.192118  256283.335105         611.958791   \n",
       "min              0.000000   19.000000  100804.000000         500.000000   \n",
       "25%            116.000000   32.000000  337677.000000         500.000000   \n",
       "50%            202.000000   38.000000  532330.000000        1000.000000   \n",
       "75%            278.000000   45.000000  757644.000000        2000.000000   \n",
       "max            479.000000   64.000000  999435.000000        2000.000000   \n",
       "\n",
       "       policy_annual_premium  umbrella_limit    insured_zip  capital-gains  \\\n",
       "count             909.000000    9.090000e+02     909.000000     909.000000   \n",
       "mean             1256.597712    1.088009e+06  500597.042904   24823.652365   \n",
       "std               245.236621    2.278747e+06   71474.927903   27719.509214   \n",
       "min               484.670000   -1.000000e+06  430141.000000       0.000000   \n",
       "25%              1090.030000    0.000000e+00  448190.000000       0.000000   \n",
       "50%              1257.040000    0.000000e+00  466390.000000       0.000000   \n",
       "75%              1415.680000    0.000000e+00  602942.000000   50400.000000   \n",
       "max              2047.590000    1.000000e+07  620962.000000  100500.000000   \n",
       "\n",
       "        capital-loss  incident_hour_of_the_day  number_of_vehicles_involved  \\\n",
       "count     909.000000                909.000000                   909.000000   \n",
       "mean   -26923.652365                 12.062706                     1.922992   \n",
       "std     28277.509343                  7.005145                     1.031769   \n",
       "min   -111100.000000                  0.000000                     1.000000   \n",
       "25%    -51800.000000                  6.000000                     1.000000   \n",
       "50%    -22300.000000                 13.000000                     1.000000   \n",
       "75%         0.000000                 18.000000                     3.000000   \n",
       "max         0.000000                 23.000000                     4.000000   \n",
       "\n",
       "       bodily_injuries   witnesses  total_claim_amount  injury_claim  \\\n",
       "count       909.000000  909.000000          909.000000    909.000000   \n",
       "mean          1.002200    1.481848        57507.645765   8100.891089   \n",
       "std           0.823656    1.111093        22779.061381   4615.021845   \n",
       "min           0.000000    0.000000          100.000000      0.000000   \n",
       "25%           0.000000    0.000000        48060.000000   5260.000000   \n",
       "50%           1.000000    1.000000        60200.000000   7180.000000   \n",
       "75%           2.000000    2.000000        72100.000000  11700.000000   \n",
       "max           2.000000    3.000000       114920.000000  21450.000000   \n",
       "\n",
       "       property_claim  vehicle_claim    auto_year  \n",
       "count      909.000000     909.000000   909.000000  \n",
       "mean      8064.906491   41341.848185  2005.125413  \n",
       "std       4552.940222   16253.292262     6.012991  \n",
       "min          0.000000      70.000000  1995.000000  \n",
       "25%       5340.000000   34370.000000  2000.000000  \n",
       "50%       7120.000000   43680.000000  2005.000000  \n",
       "75%      11260.000000   51680.000000  2010.000000  \n",
       "max      23670.000000   79560.000000  2015.000000  "
      ]
     },
     "execution_count": 47,
     "metadata": {},
     "output_type": "execute_result"
    }
   ],
   "source": [
    "# Identify and drop rows where features have illogical or invalid values, such as negative values for features that should only have positive values\n",
    "df_insurance.describe()"
   ]
  },
  {
   "cell_type": "code",
   "execution_count": 49,
   "metadata": {},
   "outputs": [
    {
     "data": {
      "text/plain": [
       "(908, 39)"
      ]
     },
     "execution_count": 49,
     "metadata": {},
     "output_type": "execute_result"
    }
   ],
   "source": [
    "## Removing Negative value of Umbrealla Limit as that should not be negative\n",
    "df_insurance= df_insurance[df_insurance[\"umbrella_limit\"]>=0]\n",
    "df_insurance.shape"
   ]
  },
  {
   "cell_type": "markdown",
   "metadata": {
    "id": "XTGMKeeNDPWd"
   },
   "source": [
    "#### **2.2.4** Identify and remove columns where a large proportion of the values are unique or near-unique, as these columns are likely to be identifiers or have very limited predictive power <font color=\"red\">[1 Mark]</font>"
   ]
  },
  {
   "cell_type": "code",
   "execution_count": 52,
   "metadata": {
    "id": "U4LXO65UDPWd"
   },
   "outputs": [],
   "source": [
    "# Identify and remove columns that are likely to be identifiers or have very limited predictive power\n",
    "# 1. Drop the  'policy_number','incident_location','policy_bind_date','policy_annual_premium','insured_zip' column as all or >90% values are unique\n",
    "df_insurance = df_insurance.drop(['policy_number','incident_location','policy_bind_date','policy_annual_premium','insured_zip'],axis=1)\n"
   ]
  },
  {
   "cell_type": "code",
   "execution_count": 54,
   "metadata": {
    "id": "KzHx2BzPDPWd"
   },
   "outputs": [
    {
     "name": "stdout",
     "output_type": "stream",
     "text": [
      "<class 'pandas.core.frame.DataFrame'>\n",
      "Index: 908 entries, 0 to 999\n",
      "Data columns (total 34 columns):\n",
      " #   Column                       Non-Null Count  Dtype \n",
      "---  ------                       --------------  ----- \n",
      " 0   months_as_customer           908 non-null    int64 \n",
      " 1   age                          908 non-null    int64 \n",
      " 2   policy_state                 908 non-null    object\n",
      " 3   policy_csl                   908 non-null    object\n",
      " 4   policy_deductable            908 non-null    int64 \n",
      " 5   umbrella_limit               908 non-null    int64 \n",
      " 6   insured_sex                  908 non-null    object\n",
      " 7   insured_education_level      908 non-null    object\n",
      " 8   insured_occupation           908 non-null    object\n",
      " 9   insured_hobbies              908 non-null    object\n",
      " 10  insured_relationship         908 non-null    object\n",
      " 11  capital-gains                908 non-null    int64 \n",
      " 12  capital-loss                 908 non-null    int64 \n",
      " 13  incident_date                908 non-null    object\n",
      " 14  incident_type                908 non-null    object\n",
      " 15  collision_type               908 non-null    object\n",
      " 16  incident_severity            908 non-null    object\n",
      " 17  authorities_contacted        908 non-null    object\n",
      " 18  incident_state               908 non-null    object\n",
      " 19  incident_city                908 non-null    object\n",
      " 20  incident_hour_of_the_day     908 non-null    int64 \n",
      " 21  number_of_vehicles_involved  908 non-null    int64 \n",
      " 22  property_damage              908 non-null    object\n",
      " 23  bodily_injuries              908 non-null    int64 \n",
      " 24  witnesses                    908 non-null    int64 \n",
      " 25  police_report_available      908 non-null    object\n",
      " 26  total_claim_amount           908 non-null    int64 \n",
      " 27  injury_claim                 908 non-null    int64 \n",
      " 28  property_claim               908 non-null    int64 \n",
      " 29  vehicle_claim                908 non-null    int64 \n",
      " 30  auto_make                    908 non-null    object\n",
      " 31  auto_model                   908 non-null    object\n",
      " 32  auto_year                    908 non-null    int64 \n",
      " 33  fraud_reported               908 non-null    object\n",
      "dtypes: int64(15), object(19)\n",
      "memory usage: 248.3+ KB\n"
     ]
    }
   ],
   "source": [
    "# Check the dataset\n",
    "df_insurance.info()"
   ]
  },
  {
   "cell_type": "markdown",
   "metadata": {
    "id": "nAvSdxKBDPWe"
   },
   "source": [
    "### **2.3 Fix Data Types** <font color = red>[3 marks]</font>\n",
    "Carefully examine the dataset and identify columns that contain date or time information but are not stored as the appropriate data type. Convert these columns to the correct datetime data type to enable proper analysis and manipulation of temporal information."
   ]
  },
  {
   "cell_type": "code",
   "execution_count": 57,
   "metadata": {
    "id": "WIycvsINDPWe"
   },
   "outputs": [],
   "source": [
    "# Fix the data types of the columns with incorrect data types\n",
    "df_insurance['incident_date'] = pd.to_datetime(df_insurance['incident_date'])"
   ]
  },
  {
   "cell_type": "code",
   "execution_count": 59,
   "metadata": {
    "id": "kl0jWZNEDPWe",
    "scrolled": true
   },
   "outputs": [
    {
     "name": "stdout",
     "output_type": "stream",
     "text": [
      "<class 'pandas.core.frame.DataFrame'>\n",
      "Index: 908 entries, 0 to 999\n",
      "Data columns (total 34 columns):\n",
      " #   Column                       Non-Null Count  Dtype         \n",
      "---  ------                       --------------  -----         \n",
      " 0   months_as_customer           908 non-null    int64         \n",
      " 1   age                          908 non-null    int64         \n",
      " 2   policy_state                 908 non-null    object        \n",
      " 3   policy_csl                   908 non-null    object        \n",
      " 4   policy_deductable            908 non-null    int64         \n",
      " 5   umbrella_limit               908 non-null    int64         \n",
      " 6   insured_sex                  908 non-null    object        \n",
      " 7   insured_education_level      908 non-null    object        \n",
      " 8   insured_occupation           908 non-null    object        \n",
      " 9   insured_hobbies              908 non-null    object        \n",
      " 10  insured_relationship         908 non-null    object        \n",
      " 11  capital-gains                908 non-null    int64         \n",
      " 12  capital-loss                 908 non-null    int64         \n",
      " 13  incident_date                908 non-null    datetime64[ns]\n",
      " 14  incident_type                908 non-null    object        \n",
      " 15  collision_type               908 non-null    object        \n",
      " 16  incident_severity            908 non-null    object        \n",
      " 17  authorities_contacted        908 non-null    object        \n",
      " 18  incident_state               908 non-null    object        \n",
      " 19  incident_city                908 non-null    object        \n",
      " 20  incident_hour_of_the_day     908 non-null    int64         \n",
      " 21  number_of_vehicles_involved  908 non-null    int64         \n",
      " 22  property_damage              908 non-null    object        \n",
      " 23  bodily_injuries              908 non-null    int64         \n",
      " 24  witnesses                    908 non-null    int64         \n",
      " 25  police_report_available      908 non-null    object        \n",
      " 26  total_claim_amount           908 non-null    int64         \n",
      " 27  injury_claim                 908 non-null    int64         \n",
      " 28  property_claim               908 non-null    int64         \n",
      " 29  vehicle_claim                908 non-null    int64         \n",
      " 30  auto_make                    908 non-null    object        \n",
      " 31  auto_model                   908 non-null    object        \n",
      " 32  auto_year                    908 non-null    int64         \n",
      " 33  fraud_reported               908 non-null    object        \n",
      "dtypes: datetime64[ns](1), int64(15), object(18)\n",
      "memory usage: 248.3+ KB\n"
     ]
    }
   ],
   "source": [
    "# Check the features of the data again\n",
    "df_insurance.info()"
   ]
  },
  {
   "cell_type": "markdown",
   "metadata": {
    "id": "nXS8rflQDPWe"
   },
   "source": [
    "## **3. Train-Validation Split** <font color = red>[5 marks]</font>"
   ]
  },
  {
   "cell_type": "markdown",
   "metadata": {
    "id": "9qOELXFYDPWe"
   },
   "source": [
    "### **3.1 Import required libraries**  "
   ]
  },
  {
   "cell_type": "code",
   "execution_count": 63,
   "metadata": {
    "id": "-vJKP7g0DPWe"
   },
   "outputs": [],
   "source": [
    "# Import train-test-split\n",
    "from sklearn.model_selection import train_test_split"
   ]
  },
  {
   "cell_type": "markdown",
   "metadata": {
    "id": "-MdKqcZ-DPWe"
   },
   "source": [
    "### **3.2 Define feature and target variables** <font color = red>[2 Marks]</font>"
   ]
  },
  {
   "cell_type": "code",
   "execution_count": 66,
   "metadata": {
    "id": "qacdKTt1DPWj"
   },
   "outputs": [],
   "source": [
    "# Put all the feature variables in X\n",
    "X =df_insurance.drop('fraud_reported',axis=1)\n",
    "# Put the target variable in y\n",
    "y = df_insurance[['fraud_reported']]"
   ]
  },
  {
   "cell_type": "markdown",
   "metadata": {
    "id": "t2JaDNlsDPWj"
   },
   "source": [
    "### **3.3 Split the data** <font color=\"red\">[3 Marks]</font>"
   ]
  },
  {
   "cell_type": "code",
   "execution_count": 195,
   "metadata": {
    "id": "7_mMlbt7DPWj"
   },
   "outputs": [],
   "source": [
    "# Split the dataset into 70% train and 30% validation and use stratification on the target variable\n",
    "\n",
    "X_train, X_test, y_train, y_test = train_test_split(X,y, train_size=0.7,test_size=0.3,random_state=42)\n",
    "\n",
    "# Reset index for all train and test sets\n",
    "# Reset index for all train and test sets\n",
    "X_train.reset_index(drop=True, inplace=True)\n",
    "X_test.reset_index(drop=True, inplace=True)\n",
    "y_train.reset_index(drop=True, inplace= True)\n",
    "y_test.reset_index(drop=True, inplace=True)"
   ]
  },
  {
   "cell_type": "code",
   "execution_count": 197,
   "metadata": {},
   "outputs": [
    {
     "name": "stdout",
     "output_type": "stream",
     "text": [
      "X_Train Shape :  (635, 33)\n",
      "X_test Shape :  (273, 33)\n",
      "y_train Shape :  (635, 1)\n",
      "y_test Shape :  (273, 1)\n"
     ]
    }
   ],
   "source": [
    "# Reset index for all train and test sets\n",
    "print(\"X_Train Shape : \" ,X_train.shape)\n",
    "print(\"X_test Shape : \" ,X_test.shape)\n",
    "print(\"y_train Shape : \" ,y_train.shape)\n",
    "print(\"y_test Shape : \" ,y_test.shape)"
   ]
  },
  {
   "cell_type": "markdown",
   "metadata": {
    "id": "4E_xpebIDPWk"
   },
   "source": [
    "## **4. EDA on training data** <font color = red>[20 marks]</font>"
   ]
  },
  {
   "cell_type": "markdown",
   "metadata": {
    "id": "xDNn7iBADPWk"
   },
   "source": [
    "### **4.1 Perform univariate analysis** <font color = red>[5 marks]</font>"
   ]
  },
  {
   "cell_type": "markdown",
   "metadata": {
    "id": "aVLeqhcADPWk"
   },
   "source": [
    "#### **4.1.1** Identify and select numerical columns from training data for univariate analysis <font color = \"red\">[1 Mark]</font>"
   ]
  },
  {
   "cell_type": "code",
   "execution_count": 202,
   "metadata": {
    "id": "bR9ulzRsDPWk"
   },
   "outputs": [
    {
     "data": {
      "text/plain": [
       "['months_as_customer',\n",
       " 'age',\n",
       " 'policy_deductable',\n",
       " 'umbrella_limit',\n",
       " 'capital-gains',\n",
       " 'capital-loss',\n",
       " 'incident_hour_of_the_day',\n",
       " 'number_of_vehicles_involved',\n",
       " 'bodily_injuries',\n",
       " 'witnesses',\n",
       " 'total_claim_amount',\n",
       " 'injury_claim',\n",
       " 'property_claim',\n",
       " 'vehicle_claim',\n",
       " 'auto_year']"
      ]
     },
     "execution_count": 202,
     "metadata": {},
     "output_type": "execute_result"
    }
   ],
   "source": [
    "# Select numerical columns\n",
    "numerical_columns = X_train.select_dtypes(include=['number']).columns.tolist()\n",
    "numerical_columns"
   ]
  },
  {
   "cell_type": "markdown",
   "metadata": {
    "id": "wP4icMhPDPWk"
   },
   "source": [
    "#### **4.1.2** Visualise the distribution of selected numerical features using appropriate plots to understand their characteristics <font color = \"red\">[4 Marks]</font>"
   ]
  },
  {
   "cell_type": "code",
   "execution_count": 205,
   "metadata": {},
   "outputs": [
    {
     "data": {
      "image/png": "[encoded data removed]",
      "text/plain": [
       "<Figure size 640x480 with 1 Axes>"
      ]
     },
     "metadata": {},
     "output_type": "display_data"
    },
    {
     "data": {
      "image/png": "[encoded data removed]",
      "text/plain": [
       "<Figure size 640x480 with 1 Axes>"
      ]
     },
     "metadata": {},
     "output_type": "display_data"
    },
    {
     "data": {
      "image/png": "[encoded data removed]",
      "text/plain": [
       "<Figure size 640x480 with 1 Axes>"
      ]
     },
     "metadata": {},
     "output_type": "display_data"
    },
    {
     "data": {
      "image/png": "[encoded data removed]",
      "text/plain": [
       "<Figure size 640x480 with 1 Axes>"
      ]
     },
     "metadata": {},
     "output_type": "display_data"
    },
    {
     "data": {
      "image/png": "[encoded data removed]",
      "text/plain": [
       "<Figure size 640x480 with 1 Axes>"
      ]
     },
     "metadata": {},
     "output_type": "display_data"
    }
   ],
   "source": [
    "sns.boxplot(X_train['capital-gains'])\n",
    "plt.title(\"capital-gains\")\n",
    "plt.show()\n",
    "\n",
    "sns.boxplot(X_train['total_claim_amount'])\n",
    "plt.title(\"total_claim_amount\")\n",
    "plt.show()\n",
    "\n",
    "sns.boxplot(X_train['injury_claim'])\n",
    "plt.title(\"injury_claim\")\n",
    "plt.show()\n",
    "\n",
    "sns.boxplot(X_train['property_claim'])\n",
    "plt.title(\"property_claim\")\n",
    "plt.show()\n",
    "\n",
    "\n",
    "sns.boxplot(X_train['vehicle_claim'])\n",
    "plt.title(\"vehicle_claim\")\n",
    "plt.show()"
   ]
  },
  {
   "cell_type": "code",
   "execution_count": null,
   "metadata": {},
   "outputs": [],
   "source": []
  },
  {
   "cell_type": "markdown",
   "metadata": {
    "id": "o4UAw5pDDPWl"
   },
   "source": [
    "### **4.2 Perform correlation analysis** <font color=\"red\">[3 Marks]</font>"
   ]
  },
  {
   "cell_type": "markdown",
   "metadata": {
    "id": "ySJiTDdxDPWl"
   },
   "source": [
    " Investigate the relationships between numerical features to identify potential multicollinearity or dependencies. Visualise the correlation structure using an appropriate method to gain insights into feature relationships."
   ]
  },
  {
   "cell_type": "code",
   "execution_count": 210,
   "metadata": {
    "id": "_xadGQK7DPWl"
   },
   "outputs": [
    {
     "data": {
      "image/png": "[encoded data removed]",
      "text/plain": [
       "<Figure size 1400x1000 with 2 Axes>"
      ]
     },
     "metadata": {},
     "output_type": "display_data"
    }
   ],
   "source": [
    "# Create correlation matrix for numerical columns\n",
    "corr_matrix = X_train[numerical_columns].corr()\n",
    "# Plot Heatmap of the correlation matrix\n",
    "plt.figure(figsize=(14,10))\n",
    "sns.heatmap(corr_matrix, annot=True)\n",
    "plt.title(\"Correlation Matrix of Numerical Columns\")\n",
    "plt.show()\n"
   ]
  },
  {
   "cell_type": "markdown",
   "metadata": {
    "id": "ZHQ3du-9DPWl"
   },
   "source": [
    "### **4.3 Check class balance** <font color=\"red\">[2 Marks]</font>"
   ]
  },
  {
   "cell_type": "markdown",
   "metadata": {
    "id": "eTkJHl0xDPWm"
   },
   "source": [
    "Examine the distribution of the target variable to identify potential class imbalances using visualisation for better understanding."
   ]
  },
  {
   "cell_type": "code",
   "execution_count": 214,
   "metadata": {
    "id": "V1QrXZdhDPWm"
   },
   "outputs": [
    {
     "data": {
      "image/png": "[encoded data removed]",
      "text/plain": [
       "<Figure size 600x200 with 1 Axes>"
      ]
     },
     "metadata": {},
     "output_type": "display_data"
    }
   ],
   "source": [
    "# Plot a bar chart to check class balance\n",
    "plt.figure(figsize=(6,2))\n",
    "y_train['fraud_reported'].value_counts(normalize=True).plot.bar()\n",
    "plt.title(\"Class balance check\")\n",
    "plt.show()"
   ]
  },
  {
   "cell_type": "markdown",
   "metadata": {
    "id": "xFhVKzRHDPWn"
   },
   "source": [
    "### **4.4 Perform bivariate analysis** <font color=\"red\">[10 Marks]</font>"
   ]
  },
  {
   "cell_type": "markdown",
   "metadata": {
    "id": "h0WjamQXDPWn"
   },
   "source": [
    "#### **4.4.1** Target likelihood analysis for categorical variables. <font color=\"red\">[5 Marks]</font>\n",
    "Investigate the relationships between categorical features and the target variable by analysing the target event likelihood (for the `'Y'` event) for each level of every relevant categorical feature. Through this analysis, identify categorical features that do not contribute much in explaining the variation in the target variable."
   ]
  },
  {
   "cell_type": "code",
   "execution_count": 218,
   "metadata": {
    "id": "K1OQJrO5guyw"
   },
   "outputs": [
    {
     "data": {
      "text/plain": [
       "['policy_state',\n",
       " 'policy_csl',\n",
       " 'insured_sex',\n",
       " 'insured_education_level',\n",
       " 'insured_occupation',\n",
       " 'insured_hobbies',\n",
       " 'insured_relationship',\n",
       " 'incident_type',\n",
       " 'collision_type',\n",
       " 'incident_severity',\n",
       " 'authorities_contacted',\n",
       " 'incident_state',\n",
       " 'incident_city',\n",
       " 'property_damage',\n",
       " 'police_report_available',\n",
       " 'auto_make',\n",
       " 'auto_model']"
      ]
     },
     "execution_count": 218,
     "metadata": {},
     "output_type": "execute_result"
    }
   ],
   "source": [
    "# Write a function to calculate and analyse the target variable likelihood for categorical features\n",
    "\n",
    "cat_columns = X_train.select_dtypes(include=['object']).columns.tolist()\n",
    "cat_columns\n"
   ]
  },
  {
   "cell_type": "code",
   "execution_count": 220,
   "metadata": {},
   "outputs": [
    {
     "name": "stdout",
     "output_type": "stream",
     "text": [
      "                     Feature                  Category  Target_Likelihood  Sample_Size  Var_Coeff  Low_Contribution\n",
      "63         incident_severity              Major Damage               0.62          189   1.132403             False\n",
      "64         incident_severity              Minor Damage               0.12          209   1.132403             False\n",
      "65         incident_severity                Total Loss               0.12          202   1.132403             False\n",
      "66         incident_severity            Trivial Damage               0.06           35   1.132403             False\n",
      "37           insured_hobbies                  exercise               0.21           33   0.729586             False\n",
      "29           insured_hobbies              base-jumping               0.31           26   0.729586             False\n",
      "31           insured_hobbies               board-games               0.32           34   0.729586             False\n",
      "32           insured_hobbies            bungie-jumping               0.20           41   0.729586             False\n",
      "33           insured_hobbies                   camping               0.08           37   0.729586             False\n",
      "34           insured_hobbies                     chess               0.87           31   0.729586             False\n",
      "35           insured_hobbies                 cross-fit               0.79           19   0.729586             False\n",
      "36           insured_hobbies                   dancing               0.10           29   0.729586             False\n",
      "38           insured_hobbies                      golf               0.06           35   0.729586             False\n",
      "39           insured_hobbies                    hiking               0.23           35   0.729586             False\n",
      "40           insured_hobbies                  kayaking               0.11           38   0.729586             False\n",
      "41           insured_hobbies                    movies               0.20           35   0.729586             False\n",
      "42           insured_hobbies                 paintball               0.26           31   0.729586             False\n",
      "43           insured_hobbies                      polo               0.24           25   0.729586             False\n",
      "44           insured_hobbies                   reading               0.31           39   0.729586             False\n",
      "45           insured_hobbies                 skydiving               0.29           31   0.729586             False\n",
      "46           insured_hobbies                  sleeping               0.21           28   0.729586             False\n",
      "47           insured_hobbies               video-games               0.32           31   0.729586             False\n",
      "48           insured_hobbies                  yachting               0.37           35   0.729586             False\n",
      "30           insured_hobbies                basketball               0.18           22   0.729586             False\n",
      "57             incident_type  Single Vehicle Collision               0.30          283   0.599991             False\n",
      "56             incident_type                Parked Car               0.07           27   0.599991             False\n",
      "58             incident_type             Vehicle Theft               0.11           36   0.599991             False\n",
      "55             incident_type   Multi-vehicle Collision               0.28          289   0.599991             False\n",
      "124               auto_model                   Impreza               0.27           11   0.434133             False\n",
      "143               auto_model                        X6               0.55           11   0.434133             False\n",
      "126               auto_model                    Legacy               0.22           23   0.434133             False\n",
      "113               auto_model                       CRV               0.20           15   0.434133             False\n",
      "105               auto_model                  3 Series               0.08           13   0.434133             False\n",
      "106               auto_model                       92x               0.41           17   0.434133             False\n",
      "107               auto_model                        93               0.27           15   0.434133             False\n",
      "108               auto_model                        95               0.23           22   0.434133             False\n",
      "109               auto_model                        A3               0.24           21   0.434133             False\n",
      "110               auto_model                        A5               0.35           26   0.434133             False\n",
      "111               auto_model                    Accord               0.25            4   0.434133             False\n",
      "112               auto_model                      C300               0.38           13   0.434133             False\n",
      "114               auto_model                     Camry               0.27           15   0.434133             False\n",
      "123               auto_model                Highlander               0.27           15   0.434133             False\n",
      "115               auto_model                     Civic               0.29           14   0.434133             False\n",
      "116               auto_model                   Corolla               0.10           10   0.434133             False\n",
      "117               auto_model                      E400               0.27           15   0.434133             False\n",
      "118               auto_model                    Escape               0.27           15   0.434133             False\n",
      "119               auto_model                      F150               0.45           22   0.434133             False\n",
      "120               auto_model                 Forrestor               0.25           16   0.434133             False\n",
      "121               auto_model                    Fusion               0.42           12   0.434133             False\n",
      "122               auto_model            Grand Cherokee               0.12           17   0.434133             False\n",
      "125               auto_model                     Jetta               0.38           26   0.434133             False\n",
      "129               auto_model                     ML350               0.38            8   0.434133             False\n",
      "127               auto_model                        M5               0.38            8   0.434133             False\n",
      "130               auto_model                    Malibu               0.20           15   0.434133             False\n",
      "142               auto_model                        X5               0.20           15   0.434133             False\n",
      "141               auto_model                  Wrangler               0.08           24   0.434133             False\n",
      "140               auto_model                    Ultima               0.20           15   0.434133             False\n",
      "139               auto_model                     Tahoe               0.33           18   0.434133             False\n",
      "138               auto_model                        TL               0.15           13   0.434133             False\n",
      "137               auto_model                 Silverado               0.33           12   0.434133             False\n",
      "136               auto_model                       RSX               0.00            8   0.434133             False\n",
      "135               auto_model                       RAM               0.37           27   0.434133             False\n",
      "134               auto_model                Pathfinder               0.14           22   0.434133             False\n",
      "133               auto_model                    Passat               0.33           21   0.434133             False\n",
      "128               auto_model                       MDX               0.18           22   0.434133             False\n",
      "131               auto_model                    Maxima               0.41           17   0.434133             False\n",
      "132               auto_model                      Neon               0.23           22   0.434133             False\n",
      "62            collision_type            Side Collision               0.26          189   0.409336             False\n",
      "59            collision_type                         ?               0.10           63   0.409336             False\n",
      "60            collision_type           Front Collision               0.29          174   0.409336             False\n",
      "61            collision_type            Rear Collision               0.31          209   0.409336             False\n",
      "20        insured_occupation         handlers-cleaners               0.16           32   0.335715             False\n",
      "28        insured_occupation          transport-moving               0.30           53   0.335715             False\n",
      "19        insured_occupation           farming-fishing               0.36           33   0.335715             False\n",
      "26        insured_occupation                     sales               0.33           43   0.335715             False\n",
      "25        insured_occupation           protective-serv               0.24           41   0.335715             False\n",
      "27        insured_occupation              tech-support               0.30           46   0.335715             False\n",
      "24        insured_occupation            prof-specialty               0.25           56   0.335715             False\n",
      "22        insured_occupation             other-service               0.26           46   0.335715             False\n",
      "21        insured_occupation         machine-op-inspct               0.26           65   0.335715             False\n",
      "15        insured_occupation              adm-clerical               0.09           33   0.335715             False\n",
      "16        insured_occupation              armed-forces               0.32           38   0.335715             False\n",
      "17        insured_occupation              craft-repair               0.32           50   0.335715             False\n",
      "18        insured_occupation           exec-managerial               0.40           50   0.335715             False\n",
      "23        insured_occupation           priv-house-serv               0.12           49   0.335715             False\n",
      "92                 auto_make                      Audi               0.30           47   0.295247             False\n",
      "97                 auto_make                     Honda               0.24           33   0.295247             False\n",
      "96                 auto_make                      Ford               0.39           49   0.295247             False\n",
      "95                 auto_make                     Dodge               0.31           49   0.295247             False\n",
      "94                 auto_make                 Chevrolet               0.29           45   0.295247             False\n",
      "93                 auto_make                       BMW               0.28           47   0.295247             False\n",
      "102                auto_make                    Suburu               0.24           50   0.295247             False\n",
      "91                 auto_make                    Accura               0.14           43   0.295247             False\n",
      "100                auto_make                    Nissan               0.24           54   0.295247             False\n",
      "101                auto_make                      Saab               0.30           54   0.295247             False\n",
      "103                auto_make                    Toyota               0.22           40   0.295247             False\n",
      "104                auto_make                Volkswagen               0.36           47   0.295247             False\n",
      "99                 auto_make                  Mercedes               0.33           36   0.295247             False\n",
      "98                 auto_make                      Jeep               0.10           41   0.295247             False\n",
      "72            incident_state                        NY               0.25          172   0.264886             False\n",
      "74            incident_state                        PA               0.32           19   0.264886             False\n",
      "71            incident_state                        NC               0.31           64   0.264886             False\n",
      "75            incident_state                        SC               0.33          169   0.264886             False\n",
      "76            incident_state                        VA               0.21           61   0.264886             False\n",
      "73            incident_state                        OH               0.43           14   0.264886             False\n",
      "77            incident_state                        WV               0.21          136   0.264886             False\n",
      "87           property_damage                       YES               0.29          187   0.216104             False\n",
      "86           property_damage                        NO               0.20          221   0.216104             False\n",
      "85           property_damage                         ?               0.31          227   0.216104             False\n",
      "79             incident_city                  Columbus               0.21          102   0.215833             False\n",
      "78             incident_city                 Arlington               0.37           79   0.215833             False\n",
      "80             incident_city                 Hillsdale               0.29           94   0.215833             False\n",
      "81             incident_city                 Northbend               0.24          104   0.215833             False\n",
      "83             incident_city                 Riverwood               0.27           79   0.215833             False\n",
      "84             incident_city               Springfield               0.32          101   0.215833             False\n",
      "82             incident_city                Northbrook               0.21           76   0.215833             False\n",
      "1               policy_state                        IN               0.29          193   0.148406             False\n",
      "0               policy_state                        IL               0.22          223   0.148406             False\n",
      "2               policy_state                        OH               0.30          219   0.148406             False\n",
      "69     authorities_contacted                     Other               0.29          140   0.140612             False\n",
      "67     authorities_contacted                 Ambulance               0.29          140   0.140612             False\n",
      "68     authorities_contacted                      Fire               0.30          152   0.140612             False\n",
      "70     authorities_contacted                    Police               0.22          203   0.140612             False\n",
      "5                 policy_csl                  500/1000               0.24          179   0.132250             False\n",
      "4                 policy_csl                   250/500               0.31          221   0.132250             False\n",
      "3                 policy_csl                   100/300               0.26          235   0.132250             False\n",
      "8    insured_education_level                 Associate               0.23           88   0.113094             False\n",
      "9    insured_education_level                   College               0.28           81   0.113094             False\n",
      "10   insured_education_level               High School               0.24           99   0.113094             False\n",
      "12   insured_education_level                        MD               0.30           96   0.113094             False\n",
      "11   insured_education_level                        JD               0.30          105   0.113094             False\n",
      "14   insured_education_level                       PhD               0.27           81   0.113094             False\n",
      "13   insured_education_level                   Masters               0.25           85   0.113094             False\n",
      "49      insured_relationship                   husband               0.24          111   0.100760             False\n",
      "50      insured_relationship             not-in-family               0.28          110   0.100760             False\n",
      "51      insured_relationship            other-relative               0.30          115   0.100760             False\n",
      "52      insured_relationship                 own-child               0.26          109   0.100760             False\n",
      "53      insured_relationship                 unmarried               0.24           93   0.100760             False\n",
      "54      insured_relationship                      wife               0.29           97   0.100760             False\n",
      "88   police_report_available                         ?               0.28          218   0.049440              True\n",
      "89   police_report_available                        NO               0.26          219   0.049440              True\n",
      "90   police_report_available                       YES               0.26          198   0.049440              True\n",
      "6                insured_sex                    FEMALE               0.26          339   0.037979              True\n",
      "7                insured_sex                      MALE               0.28          296   0.037979              True\n"
     ]
    }
   ],
   "source": [
    "def cat_target_likelihood(data, target, cat_columns):\n",
    "  \n",
    "  \n",
    " #Calculating category-level likelihoods \n",
    "    results = []\n",
    "    for column in cat_columns:     \n",
    "        grouped = (\n",
    "            data.groupby(column)[target]\n",
    "            .agg(\n",
    "                Target_Likelihood=lambda x: (x == 'Y').mean(),\n",
    "                Sample_Size='count'\n",
    "            )\n",
    "            .reset_index()\n",
    "            .rename(columns={column: 'Category'})\n",
    "        )\n",
    "        grouped['Feature'] = column\n",
    "        results.append(grouped)\n",
    "    \n",
    "    likelihood_df = pd.concat(results, ignore_index=True)\n",
    "\n",
    "    # Feature Co-Ef calculation\n",
    "    coef_df = (\n",
    "        likelihood_df.groupby('Feature')['Target_Likelihood']\n",
    "        .apply(lambda x: x.std() / x.mean() if x.mean() > 0 else 0)  # Avoid division by zero\n",
    "        .reset_index()\n",
    "        .rename(columns={'Target_Likelihood': 'Var_Coeff'})\n",
    "    )\n",
    "    \n",
    "   ## Evaluate low contributing feature\n",
    "    merged_df = likelihood_df.merge(coef_df, on='Feature')\n",
    "    merged_df['Low_Contribution'] = merged_df['Var_Coeff'] < 0.1\n",
    "    merged_df['Coeff_of_Variation'] = merged_df['Var_Coeff'].round(2)\n",
    "    merged_df['Target_Likelihood'] = merged_df['Target_Likelihood'].round(2)\n",
    "    merged_df = merged_df.sort_values('Var_Coeff', ascending=False)\n",
    "    \n",
    "   \n",
    "    return merged_df[['Feature', 'Category', 'Target_Likelihood', 'Sample_Size', \n",
    "                          'Var_Coeff', 'Low_Contribution']]\n",
    "\n",
    "# Training Data combined\n",
    "merged_data = pd.concat([X_train, y_train], axis=1)\n",
    "merged_df = cat_target_likelihood(\n",
    "    data=merged_data,\n",
    "    target='fraud_reported',\n",
    "    cat_columns=cat_columns,\n",
    ")\n",
    "\n",
    "with pd.option_context('display.max_rows', None, 'display.width', 1000):\n",
    "    print(merged_df)"
   ]
  },
  {
   "cell_type": "markdown",
   "metadata": {
    "id": "z6oeg9naDPWo"
   },
   "source": [
    "#### **4.4.2** Explore the relationships between numerical features and the target variable to understand their impact on the target outcome using appropriate visualisation techniques to identify trends and potential interactions. <font color=\"red\">[5 Marks]</font>"
   ]
  },
  {
   "cell_type": "code",
   "execution_count": 223,
   "metadata": {
    "id": "bVXoNozGDPWo"
   },
   "outputs": [
    {
     "data": {
      "image/png": "[encoded data removed]",
      "text/plain": [
       "<Figure size 640x480 with 1 Axes>"
      ]
     },
     "metadata": {},
     "output_type": "display_data"
    }
   ],
   "source": [
    "# Visualise the relationship between numerical features and the target variable to understand their impact on the target outcome\n",
    "\n",
    "grouped_hour=merged_data.groupby(['fraud_reported','incident_hour_of_the_day'])['fraud_reported'].count().reset_index(name='count')\n",
    "\n",
    "sns.barplot(x='incident_hour_of_the_day',y= 'count',hue='fraud_reported',data =grouped_hour,color='Brown')\n",
    "plt.title('incident_hour_of_the_day v/s fraud_reported' )\n",
    "plt.show()\n"
   ]
  },
  {
   "cell_type": "code",
   "execution_count": 225,
   "metadata": {},
   "outputs": [
    {
     "data": {
      "image/png": "[encoded data removed]",
      "text/plain": [
       "<Figure size 600x400 with 1 Axes>"
      ]
     },
     "metadata": {},
     "output_type": "display_data"
    },
    {
     "data": {
      "image/png": "[encoded data removed]",
      "text/plain": [
       "<Figure size 600x400 with 1 Axes>"
      ]
     },
     "metadata": {},
     "output_type": "display_data"
    },
    {
     "data": {
      "image/png": "[encoded data removed]",
      "text/plain": [
       "<Figure size 600x400 with 1 Axes>"
      ]
     },
     "metadata": {},
     "output_type": "display_data"
    },
    {
     "data": {
      "image/png": "[encoded data removed]",
      "text/plain": [
       "<Figure size 600x400 with 1 Axes>"
      ]
     },
     "metadata": {},
     "output_type": "display_data"
    },
    {
     "data": {
      "image/png": "[encoded data removed]",
      "text/plain": [
       "<Figure size 600x400 with 1 Axes>"
      ]
     },
     "metadata": {},
     "output_type": "display_data"
    },
    {
     "data": {
      "image/png": "[encoded data removed]",
      "text/plain": [
       "<Figure size 600x400 with 1 Axes>"
      ]
     },
     "metadata": {},
     "output_type": "display_data"
    },
    {
     "data": {
      "image/png": "[encoded data removed]",
      "text/plain": [
       "<Figure size 600x400 with 1 Axes>"
      ]
     },
     "metadata": {},
     "output_type": "display_data"
    },
    {
     "data": {
      "image/png": "[encoded data removed]",
      "text/plain": [
       "<Figure size 600x400 with 1 Axes>"
      ]
     },
     "metadata": {},
     "output_type": "display_data"
    },
    {
     "data": {
      "image/png": "[encoded data removed]",
      "text/plain": [
       "<Figure size 600x400 with 1 Axes>"
      ]
     },
     "metadata": {},
     "output_type": "display_data"
    },
    {
     "data": {
      "image/png": "[encoded data removed]",
      "text/plain": [
       "<Figure size 600x400 with 1 Axes>"
      ]
     },
     "metadata": {},
     "output_type": "display_data"
    },
    {
     "data": {
      "image/png": "[encoded data removed]",
      "text/plain": [
       "<Figure size 600x400 with 1 Axes>"
      ]
     },
     "metadata": {},
     "output_type": "display_data"
    },
    {
     "data": {
      "image/png": "[encoded data removed]",
      "text/plain": [
       "<Figure size 600x400 with 1 Axes>"
      ]
     },
     "metadata": {},
     "output_type": "display_data"
    },
    {
     "data": {
      "image/png": "[encoded data removed]",
      "text/plain": [
       "<Figure size 600x400 with 1 Axes>"
      ]
     },
     "metadata": {},
     "output_type": "display_data"
    },
    {
     "data": {
      "image/png": "[encoded data removed]",
      "text/plain": [
       "<Figure size 600x400 with 1 Axes>"
      ]
     },
     "metadata": {},
     "output_type": "display_data"
    },
    {
     "data": {
      "image/png": "[encoded data removed]",
      "text/plain": [
       "<Figure size 600x400 with 1 Axes>"
      ]
     },
     "metadata": {},
     "output_type": "display_data"
    }
   ],
   "source": [
    "for column in X_train[numerical_columns].columns:\n",
    "    plt.figure(figsize=(6, 4))\n",
    "    sns.boxplot(\n",
    "        data=X_train,\n",
    "        y=X_train[column],\n",
    "        x=y_train['fraud_reported']\n",
    "    )\n",
    "    plt.title(f'fraud_reported v/s {column}')\n",
    "    plt.show()"
   ]
  },
  {
   "cell_type": "code",
   "execution_count": null,
   "metadata": {},
   "outputs": [],
   "source": []
  },
  {
   "cell_type": "markdown",
   "metadata": {
    "id": "OVV4m9OiDPWo"
   },
   "source": [
    "## **5. EDA on validation data** <font color = red>[OPTIONAL]</font>"
   ]
  },
  {
   "cell_type": "markdown",
   "metadata": {
    "id": "hvF11y45DPWo"
   },
   "source": [
    "### **5.1 Perform univariate analysis**"
   ]
  },
  {
   "cell_type": "markdown",
   "metadata": {
    "id": "krLtfiOBDPWo"
   },
   "source": [
    "#### **5.1.1** Identify and select numerical columns from training data for univariate analysis."
   ]
  },
  {
   "cell_type": "code",
   "execution_count": 231,
   "metadata": {
    "id": "RURn5Dp1DPWo"
   },
   "outputs": [],
   "source": [
    "# Select numerical columns\n"
   ]
  },
  {
   "cell_type": "markdown",
   "metadata": {
    "id": "a41PWZrNDPWp"
   },
   "source": [
    "#### **5.1.2** Visualise the distribution of selected numerical features using appropriate plots to understand their characteristics."
   ]
  },
  {
   "cell_type": "code",
   "execution_count": 234,
   "metadata": {
    "id": "DUoPrry8DPWp"
   },
   "outputs": [],
   "source": [
    "# Plot all the numerical columns to understand their distribution\n"
   ]
  },
  {
   "cell_type": "markdown",
   "metadata": {
    "id": "OhvTVXiwDPWp"
   },
   "source": [
    "### **5.2 Perform correlation analysis**"
   ]
  },
  {
   "cell_type": "markdown",
   "metadata": {
    "id": "F5tDAjsNDPWp"
   },
   "source": [
    " Investigate the relationships between numerical features to identify potential multicollinearity or dependencies. Visualise the correlation structure using an appropriate method to gain insights into feature relationships."
   ]
  },
  {
   "cell_type": "code",
   "execution_count": 238,
   "metadata": {
    "id": "C-b6CSy1DPWp"
   },
   "outputs": [],
   "source": [
    "# Create correlation matrix for numerical columns\n",
    "\n",
    "# Plot Heatmap of the correlation matrix\n"
   ]
  },
  {
   "cell_type": "markdown",
   "metadata": {
    "id": "N2ww_JH7DPWp"
   },
   "source": [
    "### **5.3 Check class balance**"
   ]
  },
  {
   "cell_type": "markdown",
   "metadata": {
    "id": "ddcn-VSADPWp"
   },
   "source": [
    "Examine the distribution of the target variable to identify potential class imbalances. Visualise the distribution for better understanding."
   ]
  },
  {
   "cell_type": "code",
   "execution_count": 242,
   "metadata": {
    "id": "5Yvfw9F2DPWq"
   },
   "outputs": [],
   "source": [
    "# Plot a bar chart to check class balance\n"
   ]
  },
  {
   "cell_type": "markdown",
   "metadata": {
    "id": "_pDlcXHxDPWq"
   },
   "source": [
    "### **5.4 Perform bivariate analysis**"
   ]
  },
  {
   "cell_type": "markdown",
   "metadata": {
    "id": "F0UT1kLHDPWq"
   },
   "source": [
    "#### **5.4.1** Target likelihood analysis for categorical variables.\n",
    "Investigate the relationships between categorical features and the target variable by analysing the target event likelihood (for the `'Y'` event) for each level of every relevant categorical feature. Through this analysis, identify categorical features that do not contribute much in explaining the variation in the target variable."
   ]
  },
  {
   "cell_type": "code",
   "execution_count": 246,
   "metadata": {
    "id": "XMe7hHDcDPWr"
   },
   "outputs": [],
   "source": [
    "# Write a function to calculate and analyse the target variable likelihood for categorical features\n"
   ]
  },
  {
   "cell_type": "markdown",
   "metadata": {
    "id": "gCNILHjCDPWr"
   },
   "source": [
    "#### **5.4.2** Explore the relationships between numerical features and the target variable to understand their impact on the target outcome. Utilise appropriate visualisation techniques to identify trends and potential interactions."
   ]
  },
  {
   "cell_type": "code",
   "execution_count": 249,
   "metadata": {
    "id": "NhQl8TJ9DPWr"
   },
   "outputs": [],
   "source": [
    "# Visualise the relationship between numerical features and the target variable to understand their impact on the target outcome\n"
   ]
  },
  {
   "cell_type": "markdown",
   "metadata": {
    "id": "TVb5a63HDPWr"
   },
   "source": [
    "## **6. Feature Engineering** <font color = red>[25 marks]</font>"
   ]
  },
  {
   "cell_type": "markdown",
   "metadata": {
    "id": "F1-lpq1iDPWs"
   },
   "source": [
    "### **6.1 Perform resampling** <font color=\"red\">[3 Marks]</font>"
   ]
  },
  {
   "cell_type": "markdown",
   "metadata": {
    "id": "vV6fEzAADPWs"
   },
   "source": [
    "Handle class imbalance in the training data by applying resampling technique.\n",
    "\n",
    "Use the **RandomOverSampler** technique to balance the data and handle class imbalance. This method increases the number of samples in the minority class by randomly duplicating them, creating synthetic data points with similar characteristics. This helps prevent the model from being biased toward the majority class and improves its ability to predict the minority class more accurately.\n",
    "\n",
    "**Note:** You can try other resampling techniques to handle class imbalance"
   ]
  },
  {
   "cell_type": "code",
   "execution_count": 254,
   "metadata": {
    "id": "ijz0X5bGDPWs"
   },
   "outputs": [
    {
     "data": {
      "text/plain": [
       "((928, 33), (928, 1))"
      ]
     },
     "execution_count": 254,
     "metadata": {},
     "output_type": "execute_result"
    }
   ],
   "source": [
    "# Import RandomOverSampler from imblearn library\n",
    "from imblearn.over_sampling import RandomOverSampler\n",
    "\n",
    "# Perform resampling on training data\n",
    "# Scaling the dtaa so that target variable imbalance is balanced\n",
    "sampler = RandomOverSampler(sampling_strategy = 1, random_state=42) \n",
    "X_resampled,y_resampled = sampler.fit_resample(X_train, y_train)\n",
    "X_resampled.shape , y_resampled.shape"
   ]
  },
  {
   "cell_type": "code",
   "execution_count": 256,
   "metadata": {},
   "outputs": [
    {
     "data": {
      "image/png": "[encoded data removed]",
      "text/plain": [
       "<Figure size 600x200 with 1 Axes>"
      ]
     },
     "metadata": {},
     "output_type": "display_data"
    }
   ],
   "source": [
    "## Check if sampling have worked\n",
    "plt.figure(figsize=(6,2))\n",
    "y_resampled['fraud_reported'].value_counts(normalize=True).plot.bar()\n",
    "plt.title(\"Class balance check\")\n",
    "plt.show()"
   ]
  },
  {
   "cell_type": "markdown",
   "metadata": {
    "id": "IQ7nY4SLDPWs"
   },
   "source": [
    "### **6.2 Feature Creation** <font color=\"red\">[4 marks]</font>"
   ]
  },
  {
   "cell_type": "markdown",
   "metadata": {
    "id": "PdDUn_sVDPWs"
   },
   "source": [
    "Create new features from existing ones to enhance the model's ability to capture patterns in the data. This may involve deriving features from date/time columns, combining features, or creating interaction terms."
   ]
  },
  {
   "cell_type": "code",
   "execution_count": 260,
   "metadata": {
    "id": "beiDdjl7DPWs"
   },
   "outputs": [],
   "source": [
    "# Create new features based on your understanding for both training and validation data\n",
    "\n",
    "# Extract Month, Day_of_week and is_weekend, is_weekday\n",
    "X_resampled['incident_year']=X_resampled['incident_date'].dt.year\n",
    "\n",
    "X_resampled['incident_month']=X_resampled['incident_date'].dt.month\n",
    "\n",
    "X_resampled['Day_of_week'] = X_resampled['incident_date'].dt.dayofweek\n",
    "\n",
    "X_resampled['is_weekend']= X_resampled['Day_of_week'].apply(lambda x: 1 if x in [5,6] else 0)\n",
    "\n",
    "X_resampled['is_weekday']= X_resampled['Day_of_week'].apply(lambda x: 1 if x not in [5,6] else 0) "
   ]
  },
  {
   "cell_type": "code",
   "execution_count": 264,
   "metadata": {},
   "outputs": [],
   "source": [
    "## calculate total Capital gain\n",
    "X_resampled['total_capital_gain'] = X_resampled['capital-gains']-X_resampled['capital-loss']\n"
   ]
  },
  {
   "cell_type": "code",
   "execution_count": 266,
   "metadata": {},
   "outputs": [],
   "source": [
    "## Providing sections to cutomers based on tenure\n",
    "X_resampled['cust_tenure_type']=pd.cut(X_resampled['months_as_customer'],[0,30,60,180,500],labels=['New','Medium','Long','Lifetime']).astype('str')\n"
   ]
  },
  {
   "cell_type": "code",
   "execution_count": 268,
   "metadata": {},
   "outputs": [],
   "source": [
    "## Create categories for incident_hour_of_the_day\n",
    "X_resampled['incident_duration']=pd.cut(X_resampled['incident_hour_of_the_day'],[-1,5,12,16,20,23],labels=['Late-Night','Morning','Afternoon','Evening','Night']).astype('str')\n"
   ]
  },
  {
   "cell_type": "code",
   "execution_count": 272,
   "metadata": {},
   "outputs": [],
   "source": [
    "## Applying all above on Test data as well\n",
    "\n",
    "X_test['incident_year']=X_test['incident_date'].dt.year\n",
    "\n",
    "X_test['incident_month']=X_test['incident_date'].dt.month\n",
    "\n",
    "X_test['Day_of_week'] = X_test['incident_date'].dt.dayofweek\n",
    "\n",
    "X_test['is_weekend']= X_test['Day_of_week'].apply(lambda x: 1 if x in [5,6] else 0)\n",
    "\n",
    "X_test['is_weekday']= X_test['Day_of_week'].apply(lambda x: 1 if x not in [5,6] else 0) \n",
    "\n",
    "X_test['total_capital_gain'] = X_test['capital-gains']-X_test['capital-loss']\n",
    "\n",
    "X_test['cust_tenure_type']=pd.cut(X_test['months_as_customer'],[0,30,60,180,500],labels=['New','Medium','Long','Lifetime']).astype('str')\n",
    "\n",
    "X_test['incident_duration']=pd.cut(X_test['incident_hour_of_the_day'],[-1,5,12,16,20,23],labels=['Late-Night','Morning','Afternoon','Evening','Night']).astype('str')\n",
    "\n"
   ]
  },
  {
   "cell_type": "code",
   "execution_count": 274,
   "metadata": {},
   "outputs": [
    {
     "name": "stdout",
     "output_type": "stream",
     "text": [
      "<class 'pandas.core.frame.DataFrame'>\n",
      "RangeIndex: 273 entries, 0 to 272\n",
      "Data columns (total 41 columns):\n",
      " #   Column                       Non-Null Count  Dtype         \n",
      "---  ------                       --------------  -----         \n",
      " 0   months_as_customer           273 non-null    int64         \n",
      " 1   age                          273 non-null    int64         \n",
      " 2   policy_state                 273 non-null    object        \n",
      " 3   policy_csl                   273 non-null    object        \n",
      " 4   policy_deductable            273 non-null    int64         \n",
      " 5   umbrella_limit               273 non-null    int64         \n",
      " 6   insured_sex                  273 non-null    object        \n",
      " 7   insured_education_level      273 non-null    object        \n",
      " 8   insured_occupation           273 non-null    object        \n",
      " 9   insured_hobbies              273 non-null    object        \n",
      " 10  insured_relationship         273 non-null    object        \n",
      " 11  capital-gains                273 non-null    int64         \n",
      " 12  capital-loss                 273 non-null    int64         \n",
      " 13  incident_date                273 non-null    datetime64[ns]\n",
      " 14  incident_type                273 non-null    object        \n",
      " 15  collision_type               273 non-null    object        \n",
      " 16  incident_severity            273 non-null    object        \n",
      " 17  authorities_contacted        273 non-null    object        \n",
      " 18  incident_state               273 non-null    object        \n",
      " 19  incident_city                273 non-null    object        \n",
      " 20  incident_hour_of_the_day     273 non-null    int64         \n",
      " 21  number_of_vehicles_involved  273 non-null    int64         \n",
      " 22  property_damage              273 non-null    object        \n",
      " 23  bodily_injuries              273 non-null    int64         \n",
      " 24  witnesses                    273 non-null    int64         \n",
      " 25  police_report_available      273 non-null    object        \n",
      " 26  total_claim_amount           273 non-null    int64         \n",
      " 27  injury_claim                 273 non-null    int64         \n",
      " 28  property_claim               273 non-null    int64         \n",
      " 29  vehicle_claim                273 non-null    int64         \n",
      " 30  auto_make                    273 non-null    object        \n",
      " 31  auto_model                   273 non-null    object        \n",
      " 32  auto_year                    273 non-null    int64         \n",
      " 33  incident_year                273 non-null    int32         \n",
      " 34  incident_month               273 non-null    int32         \n",
      " 35  Day_of_week                  273 non-null    int32         \n",
      " 36  is_weekend                   273 non-null    int64         \n",
      " 37  is_weekday                   273 non-null    int64         \n",
      " 38  total_capital_gain           273 non-null    int64         \n",
      " 39  cust_tenure_type             273 non-null    object        \n",
      " 40  incident_duration            273 non-null    object        \n",
      "dtypes: datetime64[ns](1), int32(3), int64(18), object(19)\n",
      "memory usage: 84.4+ KB\n"
     ]
    }
   ],
   "source": [
    "X_test.info()"
   ]
  },
  {
   "cell_type": "code",
   "execution_count": 276,
   "metadata": {},
   "outputs": [
    {
     "name": "stdout",
     "output_type": "stream",
     "text": [
      "<class 'pandas.core.frame.DataFrame'>\n",
      "RangeIndex: 928 entries, 0 to 927\n",
      "Data columns (total 41 columns):\n",
      " #   Column                       Non-Null Count  Dtype         \n",
      "---  ------                       --------------  -----         \n",
      " 0   months_as_customer           928 non-null    int64         \n",
      " 1   age                          928 non-null    int64         \n",
      " 2   policy_state                 928 non-null    object        \n",
      " 3   policy_csl                   928 non-null    object        \n",
      " 4   policy_deductable            928 non-null    int64         \n",
      " 5   umbrella_limit               928 non-null    int64         \n",
      " 6   insured_sex                  928 non-null    object        \n",
      " 7   insured_education_level      928 non-null    object        \n",
      " 8   insured_occupation           928 non-null    object        \n",
      " 9   insured_hobbies              928 non-null    object        \n",
      " 10  insured_relationship         928 non-null    object        \n",
      " 11  capital-gains                928 non-null    int64         \n",
      " 12  capital-loss                 928 non-null    int64         \n",
      " 13  incident_date                928 non-null    datetime64[ns]\n",
      " 14  incident_type                928 non-null    object        \n",
      " 15  collision_type               928 non-null    object        \n",
      " 16  incident_severity            928 non-null    object        \n",
      " 17  authorities_contacted        928 non-null    object        \n",
      " 18  incident_state               928 non-null    object        \n",
      " 19  incident_city                928 non-null    object        \n",
      " 20  incident_hour_of_the_day     928 non-null    int64         \n",
      " 21  number_of_vehicles_involved  928 non-null    int64         \n",
      " 22  property_damage              928 non-null    object        \n",
      " 23  bodily_injuries              928 non-null    int64         \n",
      " 24  witnesses                    928 non-null    int64         \n",
      " 25  police_report_available      928 non-null    object        \n",
      " 26  total_claim_amount           928 non-null    int64         \n",
      " 27  injury_claim                 928 non-null    int64         \n",
      " 28  property_claim               928 non-null    int64         \n",
      " 29  vehicle_claim                928 non-null    int64         \n",
      " 30  auto_make                    928 non-null    object        \n",
      " 31  auto_model                   928 non-null    object        \n",
      " 32  auto_year                    928 non-null    int64         \n",
      " 33  incident_year                928 non-null    int32         \n",
      " 34  incident_month               928 non-null    int32         \n",
      " 35  Day_of_week                  928 non-null    int32         \n",
      " 36  is_weekend                   928 non-null    int64         \n",
      " 37  is_weekday                   928 non-null    int64         \n",
      " 38  total_capital_gain           928 non-null    int64         \n",
      " 39  cust_tenure_type             928 non-null    object        \n",
      " 40  incident_duration            928 non-null    object        \n",
      "dtypes: datetime64[ns](1), int32(3), int64(18), object(19)\n",
      "memory usage: 286.5+ KB\n"
     ]
    }
   ],
   "source": [
    "X_resampled.info()"
   ]
  },
  {
   "cell_type": "markdown",
   "metadata": {
    "id": "NbQ6FhLUDPWt"
   },
   "source": [
    "### **6.3 Handle redundant columns** <font color=\"red\">[3 marks]</font>"
   ]
  },
  {
   "cell_type": "markdown",
   "metadata": {
    "id": "zs_uzd9VDPWt"
   },
   "source": [
    "Analyse the data to identify features that may be redundant or contribute minimal information toward predicting the target variable and drop them.\n",
    "\n",
    "- You can consider features that exhibit high correlation with other variables, which you may have observed during the EDA phase.\n",
    "- Features that don't strongly influence the prediction, which you may have observed during the EDA phase.\n",
    "- Categorical columns with low value counts for some levels can be remapped to reduce number of unique levels, and features with very high counts for just one level may be removed, as they resemble unique identifier columns and do not provide substantial predictive value.\n",
    "- Additionally, eliminate any columns from which the necessary features have already been extracted in the preceding step."
   ]
  },
  {
   "cell_type": "code",
   "execution_count": 151,
   "metadata": {
    "id": "9Fy0Rw1BDPWt"
   },
   "outputs": [],
   "source": [
    "# Drop redundant columns from training and validation data\n"
   ]
  },
  {
   "cell_type": "code",
   "execution_count": 278,
   "metadata": {},
   "outputs": [],
   "source": [
    "## Drop the columns from which we have derived information and are highly co related\n",
    "X_resampled = X_resampled.drop(['incident_date','months_as_customer','capital-gains','capital-loss','total_claim_amount','incident_hour_of_the_day'],axis=1)\n",
    "\n",
    "## Drop the columns from test data which we have derived infomration\n",
    "X_test = X_test.drop(['incident_date','months_as_customer','capital-gains','capital-loss','total_claim_amount','incident_hour_of_the_day'],axis=1)"
   ]
  },
  {
   "cell_type": "code",
   "execution_count": 280,
   "metadata": {
    "id": "RVYVBV27DPWt"
   },
   "outputs": [
    {
     "data": {
      "text/html": [
       "<div>\n",
       "<style scoped>\n",
       "    .dataframe tbody tr th:only-of-type {\n",
       "        vertical-align: middle;\n",
       "    }\n",
       "\n",
       "    .dataframe tbody tr th {\n",
       "        vertical-align: top;\n",
       "    }\n",
       "\n",
       "    .dataframe thead th {\n",
       "        text-align: right;\n",
       "    }\n",
       "</style>\n",
       "<table border=\"1\" class=\"dataframe\">\n",
       "  <thead>\n",
       "    <tr style=\"text-align: right;\">\n",
       "      <th></th>\n",
       "      <th>age</th>\n",
       "      <th>policy_state</th>\n",
       "      <th>policy_csl</th>\n",
       "      <th>policy_deductable</th>\n",
       "      <th>umbrella_limit</th>\n",
       "      <th>insured_sex</th>\n",
       "      <th>insured_education_level</th>\n",
       "      <th>insured_occupation</th>\n",
       "      <th>insured_hobbies</th>\n",
       "      <th>insured_relationship</th>\n",
       "      <th>...</th>\n",
       "      <th>auto_model</th>\n",
       "      <th>auto_year</th>\n",
       "      <th>incident_year</th>\n",
       "      <th>incident_month</th>\n",
       "      <th>Day_of_week</th>\n",
       "      <th>is_weekend</th>\n",
       "      <th>is_weekday</th>\n",
       "      <th>total_capital_gain</th>\n",
       "      <th>cust_tenure_type</th>\n",
       "      <th>incident_duration</th>\n",
       "    </tr>\n",
       "  </thead>\n",
       "  <tbody>\n",
       "    <tr>\n",
       "      <th>0</th>\n",
       "      <td>35</td>\n",
       "      <td>OH</td>\n",
       "      <td>250/500</td>\n",
       "      <td>1000</td>\n",
       "      <td>0</td>\n",
       "      <td>FEMALE</td>\n",
       "      <td>Associate</td>\n",
       "      <td>protective-serv</td>\n",
       "      <td>hiking</td>\n",
       "      <td>not-in-family</td>\n",
       "      <td>...</td>\n",
       "      <td>Maxima</td>\n",
       "      <td>1997</td>\n",
       "      <td>2015</td>\n",
       "      <td>1</td>\n",
       "      <td>6</td>\n",
       "      <td>1</td>\n",
       "      <td>0</td>\n",
       "      <td>83600</td>\n",
       "      <td>Long</td>\n",
       "      <td>Late-Night</td>\n",
       "    </tr>\n",
       "    <tr>\n",
       "      <th>1</th>\n",
       "      <td>44</td>\n",
       "      <td>OH</td>\n",
       "      <td>250/500</td>\n",
       "      <td>500</td>\n",
       "      <td>0</td>\n",
       "      <td>FEMALE</td>\n",
       "      <td>High School</td>\n",
       "      <td>tech-support</td>\n",
       "      <td>base-jumping</td>\n",
       "      <td>other-relative</td>\n",
       "      <td>...</td>\n",
       "      <td>Passat</td>\n",
       "      <td>1997</td>\n",
       "      <td>2015</td>\n",
       "      <td>2</td>\n",
       "      <td>5</td>\n",
       "      <td>1</td>\n",
       "      <td>0</td>\n",
       "      <td>0</td>\n",
       "      <td>Lifetime</td>\n",
       "      <td>Afternoon</td>\n",
       "    </tr>\n",
       "    <tr>\n",
       "      <th>2</th>\n",
       "      <td>46</td>\n",
       "      <td>IN</td>\n",
       "      <td>100/300</td>\n",
       "      <td>1000</td>\n",
       "      <td>0</td>\n",
       "      <td>MALE</td>\n",
       "      <td>PhD</td>\n",
       "      <td>prof-specialty</td>\n",
       "      <td>camping</td>\n",
       "      <td>unmarried</td>\n",
       "      <td>...</td>\n",
       "      <td>Tahoe</td>\n",
       "      <td>2013</td>\n",
       "      <td>2015</td>\n",
       "      <td>1</td>\n",
       "      <td>1</td>\n",
       "      <td>0</td>\n",
       "      <td>1</td>\n",
       "      <td>49400</td>\n",
       "      <td>Lifetime</td>\n",
       "      <td>Evening</td>\n",
       "    </tr>\n",
       "    <tr>\n",
       "      <th>3</th>\n",
       "      <td>58</td>\n",
       "      <td>IN</td>\n",
       "      <td>500/1000</td>\n",
       "      <td>2000</td>\n",
       "      <td>0</td>\n",
       "      <td>MALE</td>\n",
       "      <td>Masters</td>\n",
       "      <td>transport-moving</td>\n",
       "      <td>bungie-jumping</td>\n",
       "      <td>own-child</td>\n",
       "      <td>...</td>\n",
       "      <td>Maxima</td>\n",
       "      <td>2014</td>\n",
       "      <td>2015</td>\n",
       "      <td>1</td>\n",
       "      <td>5</td>\n",
       "      <td>1</td>\n",
       "      <td>0</td>\n",
       "      <td>82200</td>\n",
       "      <td>Lifetime</td>\n",
       "      <td>Late-Night</td>\n",
       "    </tr>\n",
       "    <tr>\n",
       "      <th>4</th>\n",
       "      <td>32</td>\n",
       "      <td>IL</td>\n",
       "      <td>100/300</td>\n",
       "      <td>1000</td>\n",
       "      <td>0</td>\n",
       "      <td>MALE</td>\n",
       "      <td>MD</td>\n",
       "      <td>tech-support</td>\n",
       "      <td>chess</td>\n",
       "      <td>not-in-family</td>\n",
       "      <td>...</td>\n",
       "      <td>RAM</td>\n",
       "      <td>1995</td>\n",
       "      <td>2015</td>\n",
       "      <td>1</td>\n",
       "      <td>1</td>\n",
       "      <td>0</td>\n",
       "      <td>1</td>\n",
       "      <td>117000</td>\n",
       "      <td>New</td>\n",
       "      <td>Late-Night</td>\n",
       "    </tr>\n",
       "  </tbody>\n",
       "</table>\n",
       "<p>5 rows × 35 columns</p>\n",
       "</div>"
      ],
      "text/plain": [
       "   age policy_state policy_csl  policy_deductable  umbrella_limit insured_sex  \\\n",
       "0   35           OH    250/500               1000               0      FEMALE   \n",
       "1   44           OH    250/500                500               0      FEMALE   \n",
       "2   46           IN    100/300               1000               0        MALE   \n",
       "3   58           IN   500/1000               2000               0        MALE   \n",
       "4   32           IL    100/300               1000               0        MALE   \n",
       "\n",
       "  insured_education_level insured_occupation insured_hobbies  \\\n",
       "0               Associate    protective-serv          hiking   \n",
       "1             High School       tech-support    base-jumping   \n",
       "2                     PhD     prof-specialty         camping   \n",
       "3                 Masters   transport-moving  bungie-jumping   \n",
       "4                      MD       tech-support           chess   \n",
       "\n",
       "  insured_relationship  ... auto_model auto_year incident_year incident_month  \\\n",
       "0        not-in-family  ...     Maxima      1997          2015              1   \n",
       "1       other-relative  ...     Passat      1997          2015              2   \n",
       "2            unmarried  ...      Tahoe      2013          2015              1   \n",
       "3            own-child  ...     Maxima      2014          2015              1   \n",
       "4        not-in-family  ...        RAM      1995          2015              1   \n",
       "\n",
       "  Day_of_week is_weekend  is_weekday total_capital_gain  cust_tenure_type  \\\n",
       "0           6          1           0              83600              Long   \n",
       "1           5          1           0                  0          Lifetime   \n",
       "2           1          0           1              49400          Lifetime   \n",
       "3           5          1           0              82200          Lifetime   \n",
       "4           1          0           1             117000               New   \n",
       "\n",
       "   incident_duration  \n",
       "0         Late-Night  \n",
       "1          Afternoon  \n",
       "2            Evening  \n",
       "3         Late-Night  \n",
       "4         Late-Night  \n",
       "\n",
       "[5 rows x 35 columns]"
      ]
     },
     "execution_count": 280,
     "metadata": {},
     "output_type": "execute_result"
    }
   ],
   "source": [
    "# Check the data\n",
    "X_resampled.head()"
   ]
  },
  {
   "cell_type": "markdown",
   "metadata": {
    "id": "SxA7dZ0UDPWt"
   },
   "source": [
    "### **6.4 Combine values in Categorical Columns** <font color=\"red\">[6 Marks]</font>\n",
    "During the EDA process, categorical columns with multiple unique values may be identified. To enhance model performance, it is essential to refine these categorical features by grouping values that have low frequency or provide limited predictive information.\n",
    "\n",
    "Combine categories that occur infrequently or exhibit similar behavior to reduce sparsity and improve model generalisation."
   ]
  },
  {
   "cell_type": "code",
   "execution_count": 282,
   "metadata": {
    "id": "-OF7Y35dDPWt"
   },
   "outputs": [
    {
     "name": "stdout",
     "output_type": "stream",
     "text": [
      "*******Percentage of each value*******\n",
      "age\n",
      "33    5.60\n",
      "43    5.17\n",
      "41    4.85\n",
      "42    4.42\n",
      "32    4.31\n",
      "34    4.20\n",
      "39    4.20\n",
      "31    3.88\n",
      "38    3.88\n",
      "46    3.45\n",
      "35    3.34\n",
      "37    3.23\n",
      "47    3.12\n",
      "48    3.12\n",
      "44    3.02\n",
      "30    3.02\n",
      "40    2.91\n",
      "36    2.91\n",
      "26    2.91\n",
      "28    2.80\n",
      "29    2.80\n",
      "45    2.80\n",
      "27    2.37\n",
      "57    2.05\n",
      "50    1.83\n",
      "55    1.72\n",
      "25    1.51\n",
      "51    1.40\n",
      "61    1.19\n",
      "60    1.19\n",
      "54    0.97\n",
      "53    0.97\n",
      "24    0.75\n",
      "56    0.75\n",
      "58    0.75\n",
      "49    0.65\n",
      "62    0.43\n",
      "23    0.43\n",
      "59    0.32\n",
      "21    0.32\n",
      "22    0.22\n",
      "20    0.11\n",
      "52    0.11\n",
      "Name: count, dtype: float64\n",
      "*****************************************\n",
      "*******Percentage of each value*******\n",
      "policy_state\n",
      "OH    35.78\n",
      "IL    34.70\n",
      "IN    29.53\n",
      "Name: count, dtype: float64\n",
      "*****************************************\n",
      "*******Percentage of each value*******\n",
      "policy_csl\n",
      "100/300     37.39\n",
      "250/500     36.21\n",
      "500/1000    26.40\n",
      "Name: count, dtype: float64\n",
      "*****************************************\n",
      "*******Percentage of each value*******\n",
      "policy_deductable\n",
      "500     36.64\n",
      "1000    33.51\n",
      "2000    29.85\n",
      "Name: count, dtype: float64\n",
      "*****************************************\n",
      "*******Percentage of each value*******\n",
      "umbrella_limit\n",
      "0           78.66\n",
      "6000000      5.50\n",
      "4000000      5.06\n",
      "5000000      4.42\n",
      "7000000      3.34\n",
      "8000000      1.19\n",
      "3000000      0.86\n",
      "9000000      0.65\n",
      "2000000      0.22\n",
      "10000000     0.11\n",
      "Name: count, dtype: float64\n",
      "*****************************************\n",
      "*******Percentage of each value*******\n",
      "insured_sex\n",
      "FEMALE    52.48\n",
      "MALE      47.52\n",
      "Name: count, dtype: float64\n",
      "*****************************************\n",
      "*******Percentage of each value*******\n",
      "insured_education_level\n",
      "JD             17.89\n",
      "MD             15.41\n",
      "High School    14.87\n",
      "Masters        14.44\n",
      "PhD            12.72\n",
      "College        12.61\n",
      "Associate      12.07\n",
      "Name: count, dtype: float64\n",
      "*****************************************\n",
      "*******Percentage of each value*******\n",
      "insured_occupation\n",
      "machine-op-inspct    10.02\n",
      "tech-support          9.05\n",
      "prof-specialty        9.05\n",
      "transport-moving      9.05\n",
      "craft-repair          8.08\n",
      "sales                 7.65\n",
      "exec-managerial       7.54\n",
      "other-service         6.90\n",
      "armed-forces          6.79\n",
      "priv-house-serv       6.25\n",
      "protective-serv       5.60\n",
      "farming-fishing       5.17\n",
      "handlers-cleaners     4.63\n",
      "adm-clerical          4.20\n",
      "Name: count, dtype: float64\n",
      "*****************************************\n",
      "*******Percentage of each value*******\n",
      "insured_hobbies\n",
      "chess             9.48\n",
      "reading           6.36\n",
      "bungie-jumping    6.14\n",
      "board-games       5.93\n",
      "yachting          5.71\n",
      "skydiving         5.50\n",
      "paintball         5.39\n",
      "video-games       5.17\n",
      "movies            4.96\n",
      "cross-fit         4.96\n",
      "hiking            4.85\n",
      "camping           4.53\n",
      "kayaking          4.53\n",
      "sleeping          4.31\n",
      "golf              4.09\n",
      "exercise          4.09\n",
      "base-jumping      3.88\n",
      "dancing           3.66\n",
      "polo              3.56\n",
      "basketball        2.91\n",
      "Name: count, dtype: float64\n",
      "*****************************************\n",
      "*******Percentage of each value*******\n",
      "insured_relationship\n",
      "not-in-family     17.67\n",
      "own-child         17.56\n",
      "husband           17.24\n",
      "wife              16.49\n",
      "other-relative    15.84\n",
      "unmarried         15.19\n",
      "Name: count, dtype: float64\n",
      "*****************************************\n",
      "*******Percentage of each value*******\n",
      "incident_type\n",
      "Multi-vehicle Collision     47.41\n",
      "Single Vehicle Collision    44.83\n",
      "Vehicle Theft                4.74\n",
      "Parked Car                   3.02\n",
      "Name: count, dtype: float64\n",
      "*****************************************\n",
      "*******Percentage of each value*******\n",
      "collision_type\n",
      "Rear Collision     33.84\n",
      "Side Collision     30.28\n",
      "Front Collision    28.12\n",
      "?                   7.76\n",
      "Name: count, dtype: float64\n",
      "*****************************************\n",
      "*******Percentage of each value*******\n",
      "incident_severity\n",
      "Major Damage      41.06\n",
      "Minor Damage      27.37\n",
      "Total Loss        27.05\n",
      "Trivial Damage     4.53\n",
      "Name: count, dtype: float64\n",
      "*****************************************\n",
      "*******Percentage of each value*******\n",
      "authorities_contacted\n",
      "Police       28.12\n",
      "Fire         25.22\n",
      "Ambulance    23.71\n",
      "Other        22.95\n",
      "Name: count, dtype: float64\n",
      "*****************************************\n",
      "*******Percentage of each value*******\n",
      "incident_state\n",
      "SC    28.12\n",
      "NY    27.59\n",
      "WV    19.61\n",
      "NC    10.45\n",
      "VA     8.30\n",
      "OH     3.34\n",
      "PA     2.59\n",
      "Name: count, dtype: float64\n",
      "*****************************************\n",
      "*******Percentage of each value*******\n",
      "incident_city\n",
      "Northbend      16.59\n",
      "Springfield    15.84\n",
      "Columbus       15.30\n",
      "Hillsdale      15.30\n",
      "Arlington      14.33\n",
      "Northbrook     11.64\n",
      "Riverwood      10.99\n",
      "Name: count, dtype: float64\n",
      "*****************************************\n",
      "*******Percentage of each value*******\n",
      "number_of_vehicles_involved\n",
      "1    52.59\n",
      "3    39.22\n",
      "2     4.63\n",
      "4     3.56\n",
      "Name: count, dtype: float64\n",
      "*****************************************\n",
      "*******Percentage of each value*******\n",
      "property_damage\n",
      "?      36.53\n",
      "NO     32.65\n",
      "YES    30.82\n",
      "Name: count, dtype: float64\n",
      "*****************************************\n",
      "*******Percentage of each value*******\n",
      "bodily_injuries\n",
      "2    35.99\n",
      "0    34.27\n",
      "1    29.74\n",
      "Name: count, dtype: float64\n",
      "*****************************************\n",
      "*******Percentage of each value*******\n",
      "witnesses\n",
      "2    28.02\n",
      "1    24.68\n",
      "0    24.14\n",
      "3    23.17\n",
      "Name: count, dtype: float64\n",
      "*****************************************\n",
      "*******Percentage of each value*******\n",
      "police_report_available\n",
      "?      34.91\n",
      "NO     34.27\n",
      "YES    30.82\n",
      "Name: count, dtype: float64\n",
      "*****************************************\n",
      "*******Percentage of each value*******\n",
      "injury_claim\n",
      "0        2.26\n",
      "5540     1.29\n",
      "13800    0.97\n",
      "11700    0.86\n",
      "10000    0.86\n",
      "         ... \n",
      "670      0.11\n",
      "12100    0.11\n",
      "13420    0.11\n",
      "6110     0.11\n",
      "13860    0.11\n",
      "Name: count, Length: 471, dtype: float64\n",
      "*****************************************\n",
      "*******Percentage of each value*******\n",
      "property_claim\n",
      "0        2.80\n",
      "11080    1.29\n",
      "11600    1.19\n",
      "5710     1.19\n",
      "5960     0.97\n",
      "         ... \n",
      "7860     0.11\n",
      "7500     0.11\n",
      "19950    0.11\n",
      "6260     0.11\n",
      "11360    0.11\n",
      "Name: count, Length: 459, dtype: float64\n",
      "*****************************************\n",
      "*******Percentage of each value*******\n",
      "vehicle_claim\n",
      "44800    1.08\n",
      "35000    1.08\n",
      "52080    1.08\n",
      "39600    0.97\n",
      "46800    0.97\n",
      "         ... \n",
      "2940     0.11\n",
      "4160     0.11\n",
      "35400    0.11\n",
      "23100    0.11\n",
      "44310    0.11\n",
      "Name: count, Length: 519, dtype: float64\n",
      "*****************************************\n",
      "*******Percentage of each value*******\n",
      "auto_make\n",
      "Saab          9.91\n",
      "Dodge         8.84\n",
      "Volkswagen    8.62\n",
      "Ford          8.19\n",
      "Nissan        8.08\n",
      "BMW           7.97\n",
      "Suburu        7.65\n",
      "Chevrolet     6.79\n",
      "Audi          6.57\n",
      "Accura        5.82\n",
      "Mercedes      5.71\n",
      "Jeep          5.50\n",
      "Honda         5.17\n",
      "Toyota        5.17\n",
      "Name: count, dtype: float64\n",
      "*****************************************\n",
      "*******Percentage of each value*******\n",
      "auto_model\n",
      "Jetta             5.39\n",
      "RAM               5.28\n",
      "F150              4.31\n",
      "92x               3.88\n",
      "Legacy            3.66\n",
      "Neon              3.56\n",
      "A5                3.56\n",
      "95                3.45\n",
      "MDX               3.45\n",
      "Wrangler          3.34\n",
      "Passat            3.23\n",
      "Maxima            3.02\n",
      "A3                3.02\n",
      "Tahoe             2.91\n",
      "Pathfinder        2.80\n",
      "X6                2.69\n",
      "93                2.59\n",
      "Civic             2.48\n",
      "Malibu            2.37\n",
      "C300              2.37\n",
      "Forrestor         2.26\n",
      "Ultima            2.26\n",
      "E400              2.16\n",
      "Camry             2.16\n",
      "Grand Cherokee    2.16\n",
      "Escape            2.05\n",
      "X5                2.05\n",
      "CRV               1.94\n",
      "3 Series          1.83\n",
      "Fusion            1.83\n",
      "Highlander        1.83\n",
      "Impreza           1.72\n",
      "Silverado         1.51\n",
      "TL                1.51\n",
      "M5                1.40\n",
      "ML350             1.19\n",
      "Corolla           1.19\n",
      "RSX               0.86\n",
      "Accord            0.75\n",
      "Name: count, dtype: float64\n",
      "*****************************************\n",
      "*******Percentage of each value*******\n",
      "auto_year\n",
      "1995    6.90\n",
      "2007    6.36\n",
      "2006    5.60\n",
      "2003    5.50\n",
      "2013    5.39\n",
      "2014    5.28\n",
      "2011    5.28\n",
      "1999    5.06\n",
      "2004    4.96\n",
      "2008    4.85\n",
      "2005    4.74\n",
      "1996    4.53\n",
      "2009    4.42\n",
      "2010    4.42\n",
      "1997    4.09\n",
      "2015    3.99\n",
      "2000    3.77\n",
      "1998    3.77\n",
      "2012    3.77\n",
      "2001    3.66\n",
      "2002    3.66\n",
      "Name: count, dtype: float64\n",
      "*****************************************\n",
      "*******Percentage of each value*******\n",
      "incident_year\n",
      "2015    100.0\n",
      "Name: count, dtype: float64\n",
      "*****************************************\n",
      "*******Percentage of each value*******\n",
      "incident_month\n",
      "1    52.59\n",
      "2    45.91\n",
      "3     1.51\n",
      "Name: count, dtype: float64\n",
      "*****************************************\n",
      "*******Percentage of each value*******\n",
      "Day_of_week\n",
      "5    15.84\n",
      "0    15.19\n",
      "2    14.76\n",
      "6    13.90\n",
      "4    13.90\n",
      "3    13.25\n",
      "1    13.15\n",
      "Name: count, dtype: float64\n",
      "*****************************************\n",
      "*******Percentage of each value*******\n",
      "is_weekend\n",
      "0    70.26\n",
      "1    29.74\n",
      "Name: count, dtype: float64\n",
      "*****************************************\n",
      "*******Percentage of each value*******\n",
      "is_weekday\n",
      "1    70.26\n",
      "0    29.74\n",
      "Name: count, dtype: float64\n",
      "*****************************************\n",
      "*******Percentage of each value*******\n",
      "total_capital_gain\n",
      "0         25.32\n",
      "57100      1.19\n",
      "51300      0.97\n",
      "75800      0.75\n",
      "53800      0.75\n",
      "          ...  \n",
      "65500      0.11\n",
      "149400     0.11\n",
      "12100      0.11\n",
      "76900      0.11\n",
      "93300      0.11\n",
      "Name: count, Length: 382, dtype: float64\n",
      "*****************************************\n",
      "*******Percentage of each value*******\n",
      "cust_tenure_type\n",
      "Lifetime    56.14\n",
      "Long        33.84\n",
      "New          5.82\n",
      "Medium       4.20\n",
      "Name: count, dtype: float64\n",
      "*****************************************\n",
      "*******Percentage of each value*******\n",
      "incident_duration\n",
      "Morning       24.25\n",
      "Late-Night    22.84\n",
      "Evening       20.91\n",
      "Afternoon     20.15\n",
      "Night         11.85\n",
      "Name: count, dtype: float64\n",
      "*****************************************\n"
     ]
    }
   ],
   "source": [
    "# Combine categories that have low frequency or provide limited predictive information\n",
    "\n",
    "## Check Value counts and percentage of each values\n",
    "\n",
    "for column in X_resampled.columns:\n",
    "    valCount = X_resampled[column].value_counts()\n",
    "    #print(\"Columnn : \",column)\n",
    "    percent = round(100*valCount/len(X_resampled[column]),2)\n",
    "    print(\"*******Percentage of each value*******\")\n",
    "    print(percent)\n",
    "    print(\"*****************************************\")"
   ]
  },
  {
   "cell_type": "code",
   "execution_count": 284,
   "metadata": {},
   "outputs": [],
   "source": [
    "## Create Age brackets\n",
    "## Remove Umbrella Limit (78 % data is 0)\n",
    "## incident type, incident state create other category\n",
    "# Merge incoident severity trivial and minor\n",
    "\n",
    "X_resampled['age_type']=pd.cut(X_resampled['age'],[18,30,45,60,80],labels=['Young','Young-Adults','Middle-Aged','Senior Citizen']).astype('str')\n",
    "X_resampled['incident_type']= X_resampled['incident_type'].replace(['Vehicle Theft','Parked Car'],'others')\n",
    "X_resampled['incident_state']= X_resampled['incident_state'].replace(['NC','OH','PA'],'others')\n",
    "X_resampled['incident_severity']= X_resampled['incident_severity'].replace('Trivial Damage','Minor Damage')\n",
    "\n",
    "X_resampled = X_resampled.drop('age',axis=1)"
   ]
  },
  {
   "cell_type": "markdown",
   "metadata": {
    "id": "C2vnyJqYDPWt"
   },
   "source": [
    "### **6.5 Dummy variable creation** <font color=\"red\">[6 Marks]</font>\n",
    "Transform categorical variables into numerical representations using dummy variables. Ensure consistent encoding between training and validation data."
   ]
  },
  {
   "cell_type": "markdown",
   "metadata": {
    "id": "pQHnbRB_DPWt"
   },
   "source": [
    "#### **6.5.1** Identify categorical columns for dummy variable creation <font color=\"red\">[1 Mark]</font>"
   ]
  },
  {
   "cell_type": "code",
   "execution_count": null,
   "metadata": {
    "id": "YCR73H4VDPWt"
   },
   "outputs": [],
   "source": [
    "# Identify the categorical columns for creating dummy variables\n"
   ]
  },
  {
   "cell_type": "markdown",
   "metadata": {
    "id": "ZcCgF0lsDPWu"
   },
   "source": [
    "#### **6.5.2** Create dummy variables for categorical columns in training data <font color=\"red\">[2 Marks]</font>"
   ]
  },
  {
   "cell_type": "code",
   "execution_count": null,
   "metadata": {
    "id": "JA8seldpDPWu"
   },
   "outputs": [],
   "source": [
    "# Create dummy variables using the 'get_dummies' for categorical columns in training data\n"
   ]
  },
  {
   "cell_type": "markdown",
   "metadata": {
    "id": "cbLlOiYcDPWu"
   },
   "source": [
    "#### **6.5.3** Create dummy variables for categorical columns in validation data <font color=\"red\">[2 Marks]</font>"
   ]
  },
  {
   "cell_type": "code",
   "execution_count": null,
   "metadata": {
    "id": "zvQ4n9yaDPWu"
   },
   "outputs": [],
   "source": [
    "# Create dummy variables using the 'get_dummies' for categorical columns in validation data\n"
   ]
  },
  {
   "cell_type": "markdown",
   "metadata": {
    "id": "tg5crIDKDPWu"
   },
   "source": [
    "#### **6.5.4** Create dummy variable for dependent feature in training and validation data <font color = \"red\">[1 Mark]</font>"
   ]
  },
  {
   "cell_type": "code",
   "execution_count": null,
   "metadata": {
    "id": "LyreaJQXDPWu"
   },
   "outputs": [],
   "source": [
    "# Create dummy variable for dependent feature in training data\n",
    "\n",
    "# Create dummy variable for dependent feature in validation data\n"
   ]
  },
  {
   "cell_type": "markdown",
   "metadata": {
    "id": "USXyE8QSDPWu"
   },
   "source": [
    "### **6.6 Feature scaling** <font color = red>[3 marks]</font>\n",
    "Scale numerical features to a common range to prevent features with larger values from dominating the model.  Choose a scaling method appropriate for the data and the chosen model. Apply the same scaling to both training and validation data."
   ]
  },
  {
   "cell_type": "code",
   "execution_count": null,
   "metadata": {
    "id": "VfE4LXqXDPWu"
   },
   "outputs": [],
   "source": [
    "# Import the necessary scaling tool from scikit-learn\n",
    "\n",
    "# Scale the numeric features present in the training data\n",
    "\n",
    "# Scale the numeric features present in the validation data\n"
   ]
  },
  {
   "cell_type": "markdown",
   "metadata": {
    "id": "pqIhEkpxDPWu"
   },
   "source": [
    "## **7. Model Building** <font color = red>[50 marks]</font>"
   ]
  },
  {
   "cell_type": "markdown",
   "metadata": {
    "id": "i2OLtpZWUmgS"
   },
   "source": [
    "In this task, you will be building two machine learning models: Logistic Regression and Random Forest. Each model will go through a structured process to ensure optimal performance. The key steps for each model are outlined below:\n",
    "\n",
    "**Logistic Regression Model**\n",
    "- Feature Selection using RFECV – Identify the most relevant features using Recursive Feature Elimination with Cross-Validation.\n",
    "- Model Building and Multicollinearity Assessment – Build the logistic regression model and analyse statistical aspects such as p-values and VIFs to detect multicollinearity.\n",
    "- Model Training and Evaluation on Training Data – Fit the model on the training data and assess initial performance.\n",
    "- Finding the Optimal Cutoff – Determine the best probability threshold by analysing the sensitivity-specificity tradeoff and precision-recall tradeoff.\n",
    "- FInal Prediction and Evaluation on Training Data using the Optimal Cutoff – Generate final predictions using the selected cutoff and evaluate model performance.\n",
    "\n",
    "**Random Forest Model**\n",
    "- Get Feature Importances - Obtain the importance scores for each feature and select the important features to train the model.\n",
    "- Model Evaluation on Training Data – Assess performance metrics on the training data.\n",
    "- Check Model Overfitting using Cross-Validation – Evaluate generalisation by performing cross-validation.\n",
    "- Hyperparameter Tuning using Grid Search – Optimise model performance by fine-tuning hyperparameters.\n",
    "- Final Model and Evaluation on Training Data – Train the final model using the best parameters and assess its performance."
   ]
  },
  {
   "cell_type": "markdown",
   "metadata": {
    "id": "DwQl23_eDPWx"
   },
   "source": [
    "### **7.1 Feature selection** <font color = red>[4 marks]</font>\n",
    "Identify and select the most relevant features for building a logistic regression model using Recursive Feature Elimination with Cross-Validation (RFECV)."
   ]
  },
  {
   "cell_type": "markdown",
   "metadata": {
    "id": "x7oRIQMhDPWy"
   },
   "source": [
    "#### **7.1.1** Import necessary libraries <font color=\"red\">[1 Mark]</font>"
   ]
  },
  {
   "cell_type": "code",
   "execution_count": null,
   "metadata": {
    "id": "RzQF3EyIDPWy"
   },
   "outputs": [],
   "source": [
    "# Import necessary libraries\n"
   ]
  },
  {
   "cell_type": "markdown",
   "metadata": {
    "id": "j1sHmcZKDPWy"
   },
   "source": [
    "#### **7.1.2** Perform feature selection <font color=\"red\">[2 Mark]</font>"
   ]
  },
  {
   "cell_type": "code",
   "execution_count": null,
   "metadata": {
    "id": "NKRnzy8sDPWy"
   },
   "outputs": [],
   "source": [
    "# Apply RFECV to identify the most relevant features\n"
   ]
  },
  {
   "cell_type": "code",
   "execution_count": null,
   "metadata": {
    "id": "1I0kn-9qDPWy"
   },
   "outputs": [],
   "source": [
    "# Display the features ranking by RFECV in a DataFrame\n"
   ]
  },
  {
   "cell_type": "markdown",
   "metadata": {
    "id": "KKdXnylEDPWz"
   },
   "source": [
    "#### **7.1.2** Retain the selected features <font color=\"red\">[1 Mark]</font>"
   ]
  },
  {
   "cell_type": "code",
   "execution_count": null,
   "metadata": {
    "id": "Q8TkAe72DPWz"
   },
   "outputs": [],
   "source": [
    "# Put columns selected by RFECV into variable 'col'\n"
   ]
  },
  {
   "cell_type": "markdown",
   "metadata": {
    "id": "J8zNEaKcDPWz"
   },
   "source": [
    "### **7.2 Build Logistic Regression Model** <font color = red>[12 marks]</font>\n",
    "After selecting the optimal features using RFECV, utilise these features to build a logistic regression model with Statsmodels. This approach enables a detailed statistical analysis of the model, including the assessment of p-values and Variance Inflation Factors (VIFs). Evaluating these metrics is crucial for detecting multicollinearity and ensuring that the selected predictors are not highly correlated."
   ]
  },
  {
   "cell_type": "markdown",
   "metadata": {
    "id": "xXwl9DO3DPWz"
   },
   "source": [
    "#### **7.2.1** Select relevant features and add constant in training data <font color=\"red\">[1 Mark]</font>"
   ]
  },
  {
   "cell_type": "code",
   "execution_count": null,
   "metadata": {
    "id": "kF5g0yScDPWz"
   },
   "outputs": [],
   "source": [
    "# Select only the columns selected by RFECV\n"
   ]
  },
  {
   "cell_type": "code",
   "execution_count": null,
   "metadata": {
    "id": "aBzSiNhrDPWz"
   },
   "outputs": [],
   "source": [
    "# Import statsmodels and add constant\n",
    "\n",
    "# Check the data\n"
   ]
  },
  {
   "cell_type": "markdown",
   "metadata": {
    "id": "jc9wYqe8DPW0"
   },
   "source": [
    "#### **7.2.2** Fit logistic regression model <font color=\"red\">[2 Marks]</font>"
   ]
  },
  {
   "cell_type": "code",
   "execution_count": null,
   "metadata": {
    "id": "2VTpvsZsDPW0"
   },
   "outputs": [],
   "source": [
    "# Fit a logistic Regression model on X_train after adding a constant and output the summary\n"
   ]
  },
  {
   "cell_type": "markdown",
   "metadata": {
    "id": "XBd9hyWgDPW0"
   },
   "source": [
    "**Model Interpretation**\n",
    "\n",
    "The output summary table will provide the features used for building model along with coefficient of each of the feature and their p-value. The p-value in a logistic regression model is used to assess the statistical significance of each coefficient. Lesser the p-value, more significant the feature is in the model.\n",
    "\n",
    "A positive coefficient will indicate that an increase in the value of feature would increase the odds of the event occurring. On the other hand, a negative coefficient means the opposite, i.e, an increase in the value of feature would decrease the odds of the event occurring."
   ]
  },
  {
   "cell_type": "markdown",
   "metadata": {
    "id": "VnhgDNCNDPW0"
   },
   "source": [
    "Now check VIFs for presence of multicollinearity in the model."
   ]
  },
  {
   "cell_type": "markdown",
   "metadata": {
    "id": "xLTRjCqCDPW0"
   },
   "source": [
    "#### **7.2.3** Evaluate VIF of features to assess multicollinearity <font color=\"red\">[2 Marks]</font>"
   ]
  },
  {
   "cell_type": "code",
   "execution_count": null,
   "metadata": {
    "id": "MOIppRgGDPW0"
   },
   "outputs": [],
   "source": [
    "# Import 'variance_inflation_factor'\n",
    "from statsmodels.stats.outliers_influence import variance_inflation_factor"
   ]
  },
  {
   "cell_type": "code",
   "execution_count": null,
   "metadata": {
    "id": "Xwb2dA9XDPW0"
   },
   "outputs": [],
   "source": [
    "# Make a VIF DataFrame for all the variables present\n"
   ]
  },
  {
   "cell_type": "markdown",
   "metadata": {
    "id": "2RMrfSNPDPW1"
   },
   "source": [
    "Proceed to the next step if p-values and VIFs are within acceptable ranges. If you observe high p-values or VIFs, drop the features and retrain the model. <font color=\"red\">[THIS IS OPTIONAL]</font>"
   ]
  },
  {
   "cell_type": "markdown",
   "metadata": {
    "id": "68j2g6bRDPW1"
   },
   "source": [
    "#### **7.2.4** Make predictions on training data <font color = \"red\">[1 Mark]</font>"
   ]
  },
  {
   "cell_type": "code",
   "execution_count": null,
   "metadata": {
    "id": "5DT1M3O9DPW1"
   },
   "outputs": [],
   "source": [
    "# Predict the probabilities on the training data\n",
    "\n",
    "# Reshape it into an array\n"
   ]
  },
  {
   "cell_type": "markdown",
   "metadata": {
    "id": "_j4gJDUzDPW1"
   },
   "source": [
    "#### **7.2.5** Create a DataFrame that includes actual fraud reported flags, predicted probabilities, and a column indicating predicted classifications based on a cutoff value of 0.5 <font color=\"red\">[1 Mark]</font>\n",
    "\n"
   ]
  },
  {
   "cell_type": "code",
   "execution_count": null,
   "metadata": {
    "id": "nDaW7LS_DPW1"
   },
   "outputs": [],
   "source": [
    "# Create a new DataFrame containing the actual fraud reported flag and the probabilities predicted by the model\n",
    "\n",
    "# Create new column indicating predicted classifications based on a cutoff value of 0.5\n"
   ]
  },
  {
   "cell_type": "markdown",
   "metadata": {
    "id": "6rXpNOgtDPW1"
   },
   "source": [
    "**Model performance evaluation**\n",
    "\n",
    "Evaluate the performance of the model based on predictions made on the training data."
   ]
  },
  {
   "cell_type": "markdown",
   "metadata": {
    "id": "cornkRdjDPW2"
   },
   "source": [
    "#### **7.2.6** Check the accuracy of the model <font color = \"red\">[1 Mark]</font>"
   ]
  },
  {
   "cell_type": "code",
   "execution_count": null,
   "metadata": {
    "id": "w0tyT2xgDPW2"
   },
   "outputs": [],
   "source": [
    "# Import metrics from sklearn for evaluation\n",
    "from sklearn import metrics\n",
    "\n",
    "# Check the accuracy of the model\n"
   ]
  },
  {
   "cell_type": "markdown",
   "metadata": {
    "id": "mQPieExsDPW2"
   },
   "source": [
    "#### **7.2.7** Create a confusion matrix based on the predictions made on the training data <font color=\"red\">[1 Mark]</font>"
   ]
  },
  {
   "cell_type": "code",
   "execution_count": null,
   "metadata": {
    "id": "1v1XZbNkDPW2"
   },
   "outputs": [],
   "source": [
    "# Create confusion matrix\n"
   ]
  },
  {
   "cell_type": "markdown",
   "metadata": {
    "id": "CVWR_SjqKPQF"
   },
   "source": [
    "#### **7.2.8** Create variables for true positive, true negative, false positive and false negative <font color=\"red\">[1 Mark]</font>"
   ]
  },
  {
   "cell_type": "code",
   "execution_count": null,
   "metadata": {
    "id": "JaXLtV-HKPgY"
   },
   "outputs": [],
   "source": [
    "# Create variables for true positive, true negative, false positive and false negative\n"
   ]
  },
  {
   "cell_type": "markdown",
   "metadata": {
    "id": "UkO5we1NDPW3"
   },
   "source": [
    "#### **7.2.9** Calculate sensitivity, specificity, precision, recall and F1-score <font color=\"red\">[2 Marks]</font>"
   ]
  },
  {
   "cell_type": "code",
   "execution_count": null,
   "metadata": {
    "id": "K5GpJK5CDPW3"
   },
   "outputs": [],
   "source": [
    "# Calculate the sensitivity\n",
    "\n",
    "\n",
    "# Calculate the specificity\n",
    "\n",
    "\n",
    "# Calculate Precision\n",
    "\n",
    "\n",
    "# Calculate Recall\n",
    "\n",
    "\n",
    "# Calculate F1 Score\n"
   ]
  },
  {
   "cell_type": "markdown",
   "metadata": {
    "id": "gIFdLeULDPW4"
   },
   "source": [
    "### **7.3 Find the Optimal Cutoff** <font color = red>[12 marks]</font>\n",
    "Find the optimal cutoff to improve model performance by evaluating various cutoff values and their impact on relevant metrics."
   ]
  },
  {
   "cell_type": "markdown",
   "metadata": {
    "id": "-un_98BlDPW4"
   },
   "source": [
    "#### **7.3.1** Plot ROC Curve  to visualise the trade-off between true positive rate and false positive rate across different classification thresholds <font color=\"red\">[2 Marks]</font>"
   ]
  },
  {
   "cell_type": "code",
   "execution_count": null,
   "metadata": {
    "id": "SfRY65pZDPW5"
   },
   "outputs": [],
   "source": [
    "# Import libraries or function to plot the ROC curve\n",
    "\n",
    "\n",
    "# Define ROC function\n"
   ]
  },
  {
   "cell_type": "code",
   "execution_count": null,
   "metadata": {
    "id": "nGlAWkJDDPW6"
   },
   "outputs": [],
   "source": [
    "# Call the ROC function\n"
   ]
  },
  {
   "cell_type": "markdown",
   "metadata": {
    "id": "cFPV1EBDDPW6"
   },
   "source": [
    "**Sensitivity and Specificity tradeoff**\n",
    "\n",
    "After analysing the area under the curve of the ROC, check the sensitivity and specificity tradeoff to find the optimal cutoff point."
   ]
  },
  {
   "cell_type": "markdown",
   "metadata": {
    "id": "vjcQP2BzDPW6"
   },
   "source": [
    "#### **7.3.2** Predict on training data at various probability cutoffs <font color=\"red\">[1 Mark]</font>"
   ]
  },
  {
   "cell_type": "code",
   "execution_count": null,
   "metadata": {
    "id": "t1UMUMNODPW6"
   },
   "outputs": [],
   "source": [
    "# Create columns with different probability cutoffs to explore the impact of cutoff on model performance\n"
   ]
  },
  {
   "cell_type": "markdown",
   "metadata": {
    "id": "0EFEKx21DPW6"
   },
   "source": [
    "#### **7.3.3** Plot accuracy, sensitivity, specificity at different values of probability cutoffs <font color=\"red\">[2 Marks]</font>"
   ]
  },
  {
   "cell_type": "code",
   "execution_count": null,
   "metadata": {
    "id": "OsjuXoXtDPW6"
   },
   "outputs": [],
   "source": [
    "# Create a DataFrame to see the values of accuracy, sensitivity, and specificity at different values of probability cutoffs\n"
   ]
  },
  {
   "cell_type": "code",
   "execution_count": null,
   "metadata": {
    "id": "z4og5facDPW7"
   },
   "outputs": [],
   "source": [
    "# Plot accuracy, sensitivity, and specificity at different values of probability cutoffs\n"
   ]
  },
  {
   "cell_type": "markdown",
   "metadata": {
    "id": "o6C-ScQ1DPW7"
   },
   "source": [
    "#### **7.3.4** Create a column for final prediction based on optimal cutoff <font color=\"red\">[1 Mark]</font>"
   ]
  },
  {
   "cell_type": "code",
   "execution_count": null,
   "metadata": {
    "id": "1p-z0A9wDPW7"
   },
   "outputs": [],
   "source": [
    "# Create a column for final prediction based on the optimal cutoff\n"
   ]
  },
  {
   "cell_type": "markdown",
   "metadata": {
    "id": "8jEQC7QlDPW7"
   },
   "source": [
    "#### **7.3.5** Calculate the accuracy <font color=\"red\">[1 Mark]</font>"
   ]
  },
  {
   "cell_type": "code",
   "execution_count": null,
   "metadata": {
    "id": "-XARhijiDPW7"
   },
   "outputs": [],
   "source": [
    "# Check the accuracy now\n"
   ]
  },
  {
   "cell_type": "markdown",
   "metadata": {
    "id": "qsgvpYa3DPW-"
   },
   "source": [
    "#### **7.3.6** Create confusion matrix <font color=\"red\">[1 Mark]</font>"
   ]
  },
  {
   "cell_type": "code",
   "execution_count": null,
   "metadata": {
    "id": "tuRtey6YDPW-"
   },
   "outputs": [],
   "source": [
    "# Create the confusion matrix once again\n"
   ]
  },
  {
   "cell_type": "markdown",
   "metadata": {
    "id": "Nbfa0CsbDPW-"
   },
   "source": [
    "#### **7.3.7** Create variables for true positive, true negative, false positive and false negative <font color=\"red\">[1 Mark]</font>"
   ]
  },
  {
   "cell_type": "code",
   "execution_count": null,
   "metadata": {
    "id": "xAQncHXtDPW_"
   },
   "outputs": [],
   "source": [
    "# Create variables for true positive, true negative, false positive and false negative\n"
   ]
  },
  {
   "cell_type": "markdown",
   "metadata": {
    "id": "z7KXFHRnDPW_"
   },
   "source": [
    "#### **7.3.8** Calculate sensitivity, specificity, precision, recall and F1-score of the model <font color=\"red\">[2 Mark]</font>"
   ]
  },
  {
   "cell_type": "code",
   "execution_count": null,
   "metadata": {
    "id": "958ly8K8DPW_"
   },
   "outputs": [],
   "source": [
    "# Calculate the sensitivity\n",
    "\n",
    "\n",
    "# Calculate the specificity\n",
    "\n",
    "\n",
    "# Calculate Precision\n",
    "\n",
    "\n",
    "# Calculate Recall\n",
    "\n",
    "\n",
    "# Calculate F1 Score\n"
   ]
  },
  {
   "cell_type": "markdown",
   "metadata": {
    "id": "_dNjDGtNDPXA"
   },
   "source": [
    "**Precision and Recall tradeoff**\n",
    "\n",
    "Check optimal cutoff value by plotting precision-recall curve, and adjust the cutoff based on precision and recall tradeoff if required."
   ]
  },
  {
   "cell_type": "code",
   "execution_count": null,
   "metadata": {
    "id": "HGKKbLQgDPXA"
   },
   "outputs": [],
   "source": [
    "# Import precision-recall curve function\n",
    "from sklearn.metrics import precision_recall_curve"
   ]
  },
  {
   "cell_type": "markdown",
   "metadata": {
    "id": "G4_-ZTXYDPXB"
   },
   "source": [
    "#### **7.3.9** Plot precision-recall curve <font color=\"red\">[1 Mark]</font>"
   ]
  },
  {
   "cell_type": "code",
   "execution_count": null,
   "metadata": {
    "id": "Wj2qr5FSDPXB"
   },
   "outputs": [],
   "source": [
    "# Plot precision-recall curve\n"
   ]
  },
  {
   "cell_type": "markdown",
   "metadata": {
    "id": "VdNY3cNPDPXB"
   },
   "source": [
    "### **7.4 Build Random Forest Model** <font color = red>[12 marks]</font>\n",
    "Now that you have built a logistic regression model, let's move on to building a random forest model."
   ]
  },
  {
   "cell_type": "markdown",
   "metadata": {
    "id": "sS2Hc10fDPXC"
   },
   "source": [
    "#### **7.4.1** Import necessary libraries"
   ]
  },
  {
   "cell_type": "code",
   "execution_count": null,
   "metadata": {
    "id": "S6duSoHlDPXC"
   },
   "outputs": [],
   "source": [
    "# Import necessary libraries\n",
    "from sklearn.ensemble import RandomForestClassifier\n",
    "from sklearn.metrics import classification_report\n",
    "from sklearn.model_selection import cross_val_score, GridSearchCV"
   ]
  },
  {
   "cell_type": "markdown",
   "metadata": {
    "id": "7Euc5ukLDPXC"
   },
   "source": [
    "#### **7.4.2** Build the random forest model <font color=\"red\">[1 Mark]</font>"
   ]
  },
  {
   "cell_type": "code",
   "execution_count": null,
   "metadata": {
    "id": "3ouCc_YFDPXC"
   },
   "outputs": [],
   "source": [
    "# Build a base random forest model\n"
   ]
  },
  {
   "cell_type": "markdown",
   "metadata": {
    "id": "wr3ExsTgUSKl"
   },
   "source": [
    "#### **7.4.3** Get feature importance scores and select important features <font color=\"red\">[2 Marks]</font>"
   ]
  },
  {
   "cell_type": "code",
   "execution_count": null,
   "metadata": {
    "collapsed": true,
    "id": "eSnQ3xQL__gV",
    "jupyter": {
     "outputs_hidden": true
    }
   },
   "outputs": [],
   "source": [
    "# Get feature importance scores from the trained model\n",
    "\n",
    "# Create a DataFrame to visualise the importance scores\n"
   ]
  },
  {
   "cell_type": "code",
   "execution_count": null,
   "metadata": {
    "id": "yQIR2yUqxNVI"
   },
   "outputs": [],
   "source": [
    "# Select features with high importance scores\n",
    "\n",
    "# Create a new training data with only the selected features\n"
   ]
  },
  {
   "cell_type": "markdown",
   "metadata": {
    "id": "wTzZ1YnhU9Dt"
   },
   "source": [
    "#### **7.4.4** Train the model with selected features <font color=\"red\">[1 Mark]</font>"
   ]
  },
  {
   "cell_type": "code",
   "execution_count": null,
   "metadata": {
    "id": "IeU6JcgJUnPs"
   },
   "outputs": [],
   "source": [
    "# Fit the model on the training data with selected features\n"
   ]
  },
  {
   "cell_type": "markdown",
   "metadata": {
    "id": "g_5Fk-9bDPXG"
   },
   "source": [
    "#### **7.4.5** Generate predictions on the training data <font color=\"red\">[1 Mark]</font>"
   ]
  },
  {
   "cell_type": "code",
   "execution_count": null,
   "metadata": {
    "id": "TO6AGoPFDPXG"
   },
   "outputs": [],
   "source": [
    "# Generate predictions on training data\n"
   ]
  },
  {
   "cell_type": "markdown",
   "metadata": {
    "id": "I5ApUsKlDPXH"
   },
   "source": [
    "#### **7.4.6** Check accuracy of the model <font color=\"red\">[1 Mark]</font>"
   ]
  },
  {
   "cell_type": "code",
   "execution_count": null,
   "metadata": {
    "id": "t2zmn36dDPXH"
   },
   "outputs": [],
   "source": [
    "# Check accuracy of the model\n"
   ]
  },
  {
   "cell_type": "markdown",
   "metadata": {
    "id": "Z_e5FElrDPXH"
   },
   "source": [
    "#### **7.4.7** Create confusion matrix <font color=\"red\">[1 Mark]</font>"
   ]
  },
  {
   "cell_type": "code",
   "execution_count": null,
   "metadata": {
    "id": "NJIGPNTaDPXI"
   },
   "outputs": [],
   "source": [
    "# Create the confusion matrix to visualise the performance\n"
   ]
  },
  {
   "cell_type": "markdown",
   "metadata": {
    "id": "rY3mFM8CDPXI"
   },
   "source": [
    "#### **7.4.8** Create variables for true positive, true negative, false positive and false negative <font color=\"red\">[1 Mark]</font>"
   ]
  },
  {
   "cell_type": "code",
   "execution_count": null,
   "metadata": {
    "id": "l9Ehc0vcDPXI"
   },
   "outputs": [],
   "source": [
    "# Create variables for true positive, true negative, false positive and false negative\n"
   ]
  },
  {
   "cell_type": "markdown",
   "metadata": {
    "id": "_NSOsFxRDPXJ"
   },
   "source": [
    "#### **7.4.9** Calculate sensitivity, specificity, precision, recall and F1-score of the model <font color=\"red\">[2 Marks]</font>"
   ]
  },
  {
   "cell_type": "code",
   "execution_count": null,
   "metadata": {
    "id": "M3wJsKu3DPXJ"
   },
   "outputs": [],
   "source": [
    "# Calculate the sensitivity\n",
    "\n",
    "\n",
    "# Calculate the specificity\n",
    "\n",
    "\n",
    "# Calculate Precision\n",
    "\n",
    "\n",
    "# Calculate Recall\n",
    "\n",
    "\n",
    "# Calculate F1 Score\n"
   ]
  },
  {
   "cell_type": "markdown",
   "metadata": {
    "id": "b6Jax54VDPXJ"
   },
   "source": [
    "#### **7.4.10** Check if the model is overfitting training data using cross validation <font color = \"red\">[2 marks]</font>"
   ]
  },
  {
   "cell_type": "code",
   "execution_count": null,
   "metadata": {
    "id": "42-huob6DPXJ"
   },
   "outputs": [],
   "source": [
    "# Use cross validation to check if the model is overfitting\n"
   ]
  },
  {
   "cell_type": "markdown",
   "metadata": {
    "id": "sNxYrAKZDPXJ"
   },
   "source": [
    "### **7.5 Hyperparameter Tuning** <font color = red>[10 Marks]</font>\n",
    " Enhance the performance of the random forest model by systematically exploring and selecting optimal hyperparameter values using grid search."
   ]
  },
  {
   "cell_type": "markdown",
   "metadata": {
    "id": "UnBcYjbQDPXK"
   },
   "source": [
    "#### **7.5.1** Use grid search to find the best hyperparameter values <font color = red>[2 Marks]</font>"
   ]
  },
  {
   "cell_type": "code",
   "execution_count": null,
   "metadata": {
    "id": "LTLCDfb4DPXK"
   },
   "outputs": [],
   "source": [
    "# Use grid search to find the best hyperparamter values\n",
    "\n",
    "# Best Hyperparameters\n"
   ]
  },
  {
   "cell_type": "markdown",
   "metadata": {
    "id": "vrGoY46TDPXK"
   },
   "source": [
    "#### **7.5.2** Build a random forest model based on hyperparameter tuning results <font color = red>[1 Mark]</font>"
   ]
  },
  {
   "cell_type": "code",
   "execution_count": null,
   "metadata": {
    "id": "2yxPaaDxDPXK"
   },
   "outputs": [],
   "source": [
    "# Building random forest model based on results of hyperparameter tuning\n"
   ]
  },
  {
   "cell_type": "markdown",
   "metadata": {
    "id": "IJ4gQ2m0DPXK"
   },
   "source": [
    "#### **7.5.3** Make predictions on training data <font color = red>[1 Mark]</font>"
   ]
  },
  {
   "cell_type": "code",
   "execution_count": null,
   "metadata": {
    "id": "hTE3p2rCDPXL"
   },
   "outputs": [],
   "source": [
    "# Make predictions on training data\n"
   ]
  },
  {
   "cell_type": "markdown",
   "metadata": {
    "id": "fbfSJpEuDPXL"
   },
   "source": [
    "#### **7.5.4** Check accuracy of Random Forest Model <font color = red>[1 Mark]</font>"
   ]
  },
  {
   "cell_type": "code",
   "execution_count": null,
   "metadata": {
    "id": "ItpV-JYkDPXL"
   },
   "outputs": [],
   "source": [
    "# Check the accuracy\n"
   ]
  },
  {
   "cell_type": "markdown",
   "metadata": {
    "id": "l-t6Hme3DPXL"
   },
   "source": [
    "#### **7.5.5** Create confusion matrix <font color = red>[1 Mark]</font>"
   ]
  },
  {
   "cell_type": "code",
   "execution_count": null,
   "metadata": {
    "id": "MdteUZXzDPXL"
   },
   "outputs": [],
   "source": [
    "# Create the confusion matrix\n"
   ]
  },
  {
   "cell_type": "markdown",
   "metadata": {
    "id": "jEUtsRafDPXL"
   },
   "source": [
    "#### **7.5.6** Create variables for true positive, true negative, false positive and false negative <font color = red>[1 Mark]</font>"
   ]
  },
  {
   "cell_type": "code",
   "execution_count": null,
   "metadata": {
    "id": "0aeUhFSWDPXM"
   },
   "outputs": [],
   "source": [
    "# Create variables for true positive, true negative, false positive and false negative\n"
   ]
  },
  {
   "cell_type": "markdown",
   "metadata": {
    "id": "nwDnBdjnDPXM"
   },
   "source": [
    "#### **7.5.7** Calculate sensitivity, specificity, precision, recall and F1-score of the model <font color = red>[3 Marks]</font>"
   ]
  },
  {
   "cell_type": "code",
   "execution_count": null,
   "metadata": {
    "id": "KxPHj1NjDPXM"
   },
   "outputs": [],
   "source": [
    "# Calculate the sensitivity\n",
    "\n",
    "\n",
    "# Calculate the specificity\n",
    "\n",
    "\n",
    "# Calculate Precision\n",
    "\n",
    "\n",
    "# Calculate Recall\n",
    "\n",
    "\n",
    "# Calculate F1-Score\n"
   ]
  },
  {
   "cell_type": "markdown",
   "metadata": {
    "id": "yUEvyADyDPXM"
   },
   "source": [
    "## **8. Prediction and Model Evaluation** <font color = red>[20 marks]</font>\n",
    "Use the model from the previous step to make predictions on the validation data with the optimal cutoff. Then evaluate the model's performance using metrics such as accuracy, sensitivity, specificity, precision, and recall."
   ]
  },
  {
   "cell_type": "markdown",
   "metadata": {
    "id": "EQuMB-P1DPXM"
   },
   "source": [
    "### **8.1 Make predictions over validation data using logistic regression model** <font color = red>[10 marks]</font>"
   ]
  },
  {
   "cell_type": "markdown",
   "metadata": {
    "id": "Wuz5v3TYDPXM"
   },
   "source": [
    "#### **8.1.1** Select relevant features for validation data and add constant <font color=\"red\">[1 Mark]</font>"
   ]
  },
  {
   "cell_type": "code",
   "execution_count": null,
   "metadata": {
    "id": "_AbB-x3aDPXM"
   },
   "outputs": [],
   "source": [
    "# Select the relevant features for validation data\n",
    "\n",
    "# Add constant to X_validation\n"
   ]
  },
  {
   "cell_type": "markdown",
   "metadata": {
    "id": "pzpawlMLDPXM"
   },
   "source": [
    "#### **8.1.2** Make predictions over validation data <font color=\"red\">[1 Mark]</font>"
   ]
  },
  {
   "cell_type": "code",
   "execution_count": null,
   "metadata": {
    "id": "9CmoAZJODPXM"
   },
   "outputs": [],
   "source": [
    "# Make predictions on the validation data and store it in the variable 'y_validation_pred'\n"
   ]
  },
  {
   "cell_type": "markdown",
   "metadata": {
    "id": "r8qyn8xvDPXM"
   },
   "source": [
    "#### **8.1.3** Create DataFrame with actual values and predicted values for validation data <font color=\"red\">[2 Marks]</font>"
   ]
  },
  {
   "cell_type": "code",
   "execution_count": null,
   "metadata": {
    "id": "9Zx8RBFVDPXN"
   },
   "outputs": [],
   "source": [
    "#  Create DataFrame with actual values and predicted values for validation data\n"
   ]
  },
  {
   "cell_type": "markdown",
   "metadata": {
    "id": "G_kC6wEPDPXN"
   },
   "source": [
    "#### **8.1.4** Make final prediction based on cutoff value <font color=\"red\">[1 Mark]</font>"
   ]
  },
  {
   "cell_type": "code",
   "execution_count": null,
   "metadata": {
    "id": "4ge-EC74DPXN"
   },
   "outputs": [],
   "source": [
    "# Make final predictions on the validation data using the optimal cutoff\n"
   ]
  },
  {
   "cell_type": "markdown",
   "metadata": {
    "id": "bt7sm55QDPXN"
   },
   "source": [
    "#### **8.1.5** Check the accuracy of logistic regression model on validation data <font color=\"red\">[1 Mark]</font>"
   ]
  },
  {
   "cell_type": "code",
   "execution_count": null,
   "metadata": {
    "id": "81tEKwwsDPXN"
   },
   "outputs": [],
   "source": [
    "# Check the accuracy\n"
   ]
  },
  {
   "cell_type": "markdown",
   "metadata": {
    "id": "RE8ZnagdDPXN"
   },
   "source": [
    "#### **8.1.6** Create confusion matrix <font color=\"red\">[1 Mark]</font>"
   ]
  },
  {
   "cell_type": "code",
   "execution_count": null,
   "metadata": {
    "id": "NjkkexqrDPXN"
   },
   "outputs": [],
   "source": [
    "# Create the confusion matrix\n"
   ]
  },
  {
   "cell_type": "markdown",
   "metadata": {
    "id": "SSqBZOrYDPXN"
   },
   "source": [
    "#### **8.1.7** Create variables for true positive, true negative, false positive and false negative <font color=\"red\">[1 Mark]</font>"
   ]
  },
  {
   "cell_type": "code",
   "execution_count": null,
   "metadata": {
    "id": "NzH_sFeoDPXN"
   },
   "outputs": [],
   "source": [
    "# Create variables for true positive, true negative, false positive and false negative\n"
   ]
  },
  {
   "cell_type": "markdown",
   "metadata": {
    "id": "_Mkn6DUwDPXN"
   },
   "source": [
    "#### **8.1.8** Calculate sensitivity, specificity, precision, recall and f1 score of the model <font color=\"red\">[2 Marks]</font>"
   ]
  },
  {
   "cell_type": "code",
   "execution_count": null,
   "metadata": {
    "id": "FCqNW4t3DPXO"
   },
   "outputs": [],
   "source": [
    "# Calculate the sensitivity\n",
    "\n",
    "\n",
    "# Calculate the specificity\n",
    "\n",
    "\n",
    "# Calculate Precision\n",
    "\n",
    "\n",
    "# Calculate Recall\n",
    "\n",
    "\n",
    "# Calculate F1 Score\n"
   ]
  },
  {
   "cell_type": "markdown",
   "metadata": {
    "id": "1wTVm8V_DPXO"
   },
   "source": [
    "### **8.2 Make predictions over validation data using random forest model** <font color = red>[10 marks]</font>"
   ]
  },
  {
   "cell_type": "markdown",
   "metadata": {
    "id": "UDgbDTfIDPXO"
   },
   "source": [
    "#### **8.2.1** Select the important features and make predictions over validation data <font color=\"red\">[2 Marks]</font>"
   ]
  },
  {
   "cell_type": "code",
   "execution_count": null,
   "metadata": {
    "id": "RhtKprsQDPXO"
   },
   "outputs": [],
   "source": [
    "# Select the relevant features for validation data\n",
    "\n",
    "# Make predictions on the validation data\n"
   ]
  },
  {
   "cell_type": "markdown",
   "metadata": {
    "id": "bUbtP7CADPXO"
   },
   "source": [
    "#### **8.2.2** Check accuracy of random forest model <font color=\"red\">[1 Mark]</font>"
   ]
  },
  {
   "cell_type": "code",
   "execution_count": null,
   "metadata": {
    "id": "bJyVOpLlDPXO"
   },
   "outputs": [],
   "source": [
    "# Check accuracy\n"
   ]
  },
  {
   "cell_type": "markdown",
   "metadata": {
    "id": "spUa4VBfDPXO"
   },
   "source": [
    "#### **8.2.3** Create confusion matrix <font color=\"red\">[1 Mark]</font>"
   ]
  },
  {
   "cell_type": "code",
   "execution_count": null,
   "metadata": {
    "id": "eXJVNVrSDPXO"
   },
   "outputs": [],
   "source": [
    "# Create the confusion matrix\n"
   ]
  },
  {
   "cell_type": "markdown",
   "metadata": {
    "id": "HuUdgVYSDPXO"
   },
   "source": [
    "#### **8.2.4** Create variables for true positive, true negative, false positive and false negative <font color=\"red\">[1 Mark]</font>"
   ]
  },
  {
   "cell_type": "code",
   "execution_count": null,
   "metadata": {
    "id": "UT7lU5CWDPXO"
   },
   "outputs": [],
   "source": [
    "# Create variables for true positive, true negative, false positive and false negative\n"
   ]
  },
  {
   "cell_type": "markdown",
   "metadata": {
    "id": "YAjovvF4DPXO"
   },
   "source": [
    "#### **8.2.5** Calculate sensitivity, specificity, precision, recall and F1-score of the model <font color=\"red\">[5 Marks]</font>"
   ]
  },
  {
   "cell_type": "code",
   "execution_count": null,
   "metadata": {
    "id": "C1PYzDaWDPXO"
   },
   "outputs": [],
   "source": [
    "# Calculate Sensitivity\n",
    "\n",
    "\n",
    "# Calculate Specificity\n",
    "\n",
    "\n",
    "# Calculate Precision\n",
    "\n",
    "\n",
    "# Calculate Recall\n",
    "\n",
    "\n",
    "# Calculate F1-score\n"
   ]
  },
  {
   "cell_type": "markdown",
   "metadata": {
    "id": "nENAdFWhDPXP"
   },
   "source": [
    "## **Evaluation and Conclusion**\n",
    "Write the conclusion."
   ]
  }
 ],
 "metadata": {
  "colab": {
   "provenance": [
    {
     "file_id": "1SIhxHs7kl3qt0VU3gGAAt_k_NQTvuqmc",
     "timestamp": 1740041215388
    },
    {
     "file_id": "1wef6jk_PrklarfJ5GA9FoyCAiKkArPCw",
     "timestamp": 1739780524071
    }
   ],
   "toc_visible": true
  },
  "kernelspec": {
   "display_name": "Python 3 (ipykernel)",
   "language": "python",
   "name": "python3"
  },
  "language_info": {
   "codemirror_mode": {
    "name": "ipython",
    "version": 3
   },
   "file_extension": ".py",
   "mimetype": "text/x-python",
   "name": "python",
   "nbconvert_exporter": "python",
   "pygments_lexer": "ipython3",
   "version": "3.12.7"
  }
 },
 "nbformat": 4,
 "nbformat_minor": 4
}
